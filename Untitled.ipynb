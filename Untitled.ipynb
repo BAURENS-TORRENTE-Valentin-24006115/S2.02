{
  "metadata": {
    "kernelspec": {
      "name": "python",
      "display_name": "Python (Pyodide)",
      "language": "python"
    },
    "language_info": {
      "codemirror_mode": {
        "name": "python",
        "version": 3
      },
      "file_extension": ".py",
      "mimetype": "text/x-python",
      "name": "python",
      "nbconvert_exporter": "python",
      "pygments_lexer": "ipython3",
      "version": "3.8"
    }
  },
  "nbformat_minor": 5,
  "nbformat": 4,
  "cells": [
    {
      "id": "44749bae-4145-43e7-ace1-91da1891683a",
      "cell_type": "markdown",
      "source": "# S2.02 - Exploration algorithmique d’un problème\n## Amroune Akim - Antoine Thomas - Baurens-Torrente Valentin - Sene Pablo\n\n### Exercice 1 :\n1.",
      "metadata": {}
    },
    {
      "id": "97807ad3-a134-405b-a76f-2fcce9898ade",
      "cell_type": "code",
      "source": "import matplotlib.pyplot as plt\nimport numpy as np\n\n# Fonction puissance iteree TP S2.02\ndef norme(X):\n    total = 0\n    for i in X:\n        total += i**2\n    return np.sqrt(total)\n\ndef puissance_iteree(A,s):\n    XN = np.ones(len(A)) / len(A)\n    AXN = np.dot(A,XN)\n    XN1 = (AXN / norme(AXN))\n    while norme(XN1 - XN) > s:\n        XN = XN1\n        AXN = np.dot(A,XN)\n        XN1 = (AXN) / norme(AXN)\n    return norme(np.dot(A,XN)), XN # Valeur propre et Vecteur propres\n\nC = np.array([\n        [2,3,3],\n        [1,0,3],\n        [1,5,3]\n    ])\n\nPc = puissance_iteree(C, 0.0001)\nprint(Pc, \"\\n\")\nprint(norme(np.dot(C,Pc[1]) - Pc[0] * Pc[1] ), \"\\n\")",
      "metadata": {
        "trusted": true
      },
      "outputs": [
        {
          "name": "stdout",
          "output_type": "stream",
          "text": "(np.float64(6.866319725770029), array([0.64423597, 0.38301611, 0.66201108])) \n\n0.00042623815878826114 \n\n"
        }
      ],
      "execution_count": 17
    },
    {
      "id": "dc4b2914-4869-460f-b941-085b31bf715f",
      "cell_type": "markdown",
      "source": "L'algorithme de la puissance itérée permet de calculé le score de chaque pages car celui-ci revoie le vecteur propres de la matrice donnée qui correspond a la vecteur r, qui est le vecteur des scores de chaques pages",
      "metadata": {}
    },
    {
      "id": "5b18f12c-3e5d-4462-a685-1be2ff657051",
      "cell_type": "markdown",
      "source": "2.",
      "metadata": {}
    },
    {
      "id": "6acc3716-4699-4747-9359-63b4ea038c4a",
      "cell_type": "code",
      "source": "A = np.array([\n    [0,1,1,1,1,1,0,0,0,0,0,0,0,0],\n    [1,0,1,0,1,0,0,0,0,0,0,0,0,0],\n    [1,0,0,1,0,0,0,0,0,0,0,0,0,0],\n    [1,0,0,0,1,0,0,0,0,0,0,0,0,0],\n    [1,0,0,0,0,0,0,0,0,0,0,0,0,0],\n    [0,0,0,0,0,0,1,1,1,0,0,0,0,0],\n    [1,0,0,0,0,0,0,1,0,0,0,0,0,0],\n    [0,0,0,0,0,1,0,0,0,0,0,0,0,0],\n    [0,0,0,0,0,0,0,1,0,1,0,0,0,0],\n    [0,0,0,0,0,1,0,0,0,0,1,1,1,1],\n    [0,0,0,0,0,0,0,0,0,1,0,1,0,1],\n    [0,0,0,0,0,0,0,0,0,1,0,0,1,0],\n    [0,0,0,0,0,0,0,0,0,1,0,0,0,1], \n    [0,0,0,0,0,0,0,0,0,1,0,0,0,0]\n])\n\nC = A.T #Transposée de A\n\nNj = np.zeros((len(C)),dtype=int)\nfor i in range(len(C)):\n    for j in range(len(C)):\n        Nj[i] += C[j][i]\n\nQ = np.where(Nj != 0, C / Nj,0)\n\nR = puissance_iteree(C, 1e-5)\nprint(\"Score de chaque noeuds :\")\nfor i in range(0,len(R[1])):\n    print(i+1,\":\", R[1][i])\nprint(\"Valeur propres: \",R[0])\nprint(norme(np.dot(C,R[1]) - R[0] * R[1] ), \"\\n\")",
      "metadata": {
        "trusted": true
      },
      "outputs": [
        {
          "name": "stdout",
          "output_type": "stream",
          "text": "Score de chaque noeuds :\n1 : 0.39346700063297024\n2 : 0.14987116272860962\n3 : 0.20695813864184434\n4 : 0.22870249582250157\n5 : 0.29407181836599944\n6 : 0.4026699346922477\n7 : 0.1533802669449007\n8 : 0.27022424928946176\n9 : 0.1533802669449007\n10 : 0.3934670006329703\n11 : 0.14987116272860965\n12 : 0.20695813864184442\n13 : 0.22870249582250168\n14 : 0.29407181836599955\nValeur propres:  2.6253480240575966\n1.54987054156367e-05 \n\n"
        }
      ],
      "execution_count": 18
    },
    {
      "id": "6bc5ab0a-ec7d-448f-8eb7-f97e281dd3e3",
      "cell_type": "code",
      "source": "",
      "metadata": {
        "trusted": true
      },
      "outputs": [],
      "execution_count": null
    }
  ]
}