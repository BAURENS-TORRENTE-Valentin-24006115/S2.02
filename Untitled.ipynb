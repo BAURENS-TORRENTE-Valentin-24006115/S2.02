{
 "cells": [
  {
   "cell_type": "markdown",
   "id": "44749bae-4145-43e7-ace1-91da1891683a",
   "metadata": {},
   "source": [
    "# S2.02 - Exploration algorithmique d’un problème\n",
    "## Amroune Akim - Antoine Thomas - Baurens-Torrente Valentin - Sene Pablo\n",
    "\n",
    "### Exercice 1 :\n",
    "1."
   ]
  },
  {
   "cell_type": "code",
   "execution_count": 15,
   "id": "97807ad3-a134-405b-a76f-2fcce9898ade",
   "metadata": {},
   "outputs": [
    {
     "name": "stdout",
     "output_type": "stream",
     "text": [
      "[0.64838107 0.39900373 0.64838107]\n",
      "(6.867236628955532, array([0.64426457, 0.38344549, 0.66173463])) \n",
      "\n",
      "0.004456864281712997 \n",
      "\n"
     ]
    }
   ],
   "source": [
    "import matplotlib.pyplot as plt\n",
    "import numpy as np\n",
    "\n",
    "# Fonction puissance iteree TP S2.02\n",
    "def norme(X):\n",
    "    total = 0\n",
    "    for i in X:\n",
    "        total += i**2\n",
    "    return np.sqrt(total)\n",
    "\n",
    "def puissance_iteree(A,s):\n",
    "    XN = np.array(np.random.randint(0,10,len(A)))\n",
    "    XN1 = (np.dot(A,XN) / norme(np.dot(A,XN)))\n",
    "    print(XN1)\n",
    "    while norme(XN1 - XN) > s:\n",
    "        XN = XN1\n",
    "        XN1 = (np.dot(A,XN)) / norme(np.dot(A,XN))\n",
    "    return norme(np.dot(A,XN)), XN\n",
    "\n",
    "C = np.array([\n",
    "        [2,3,3],\n",
    "        [1,0,3],\n",
    "        [1,5,3]\n",
    "    ])\n",
    "\n",
    "Pc = puissance_iteree(C, 0.001)\n",
    "print(Pc, \"\\n\")\n",
    "print(norme(np.dot(C,Pc[1]) - Pc[0] * Pc[1] ), \"\\n\")"
   ]
  },
  {
   "cell_type": "markdown",
   "id": "dc4b2914-4869-460f-b941-085b31bf715f",
   "metadata": {},
   "source": [
    "L'algorithme de la puissance itérée permet de calculé le score de chaque pages car celui-ci revoie le vecteur propres de la matrice donnée qui correspond a la vecteur r, qui est le vecteur des scores de chaques pages"
   ]
  },
  {
   "cell_type": "markdown",
   "id": "5b18f12c-3e5d-4462-a685-1be2ff657051",
   "metadata": {},
   "source": [
    "2."
   ]
  },
  {
   "cell_type": "code",
   "execution_count": 25,
   "id": "6acc3716-4699-4747-9359-63b4ea038c4a",
   "metadata": {},
   "outputs": [
    {
     "name": "stdout",
     "output_type": "stream",
     "text": [
      "[0.47500183 0.         0.07916697 0.13194495 0.13194495 0.26388991\n",
      " 0.10555596 0.44861284 0.10555596 0.39583486 0.18472293 0.23750092\n",
      " 0.23750092 0.36944587]\n",
      "Score de chaque noeuds :\n",
      "0 : 0.05155439946832566\n",
      "1 : 0.0\n",
      "2 : 0.0\n",
      "3 : 0.0\n",
      "4 : 0.0\n",
      "5 : 0.3361593323500869\n",
      "6 : 0.13164737038281854\n",
      "7 : 0.23475616931946985\n",
      "8 : 0.13164737038281854\n",
      "9 : 0.5720910848516368\n",
      "10 : 0.22403359804721662\n",
      "11 : 0.31176698031206995\n",
      "12 : 0.3461235465889741\n",
      "1.2028038594334631 \n",
      "\n"
     ]
    }
   ],
   "source": [
    "adj_matrix = np.array([\n",
    "    [0,1,1,1,1,0,0,0,0,0,0,0,0,0],  # 1\n",
    "    [1,0,1,0,1,0,0,0,0,0,0,0,0,0],  # 2\n",
    "    [1,0,0,1,0,0,0,0,0,0,0,0,0,0],  # 3\n",
    "    [1,0,0,0,1,0,0,0,0,0,0,0,0,0],  # 4\n",
    "    [1,0,0,0,0,0,0,0,0,0,0,0,0,0],  # 5\n",
    "    [1,0,0,0,0,0,1,1,1,0,0,0,0,0],  # 6\n",
    "    [1,0,0,0,0,0,0,1,0,0,0,0,0,0],  # 7\n",
    "    [0,0,0,0,0,0,0,0,0,0,0,0,0,0],  # 8\n",
    "    [0,0,0,0,0,0,0,1,0,1,0,0,0,0],  # 9\n",
    "    [0,0,0,0,0,0,0,0,0,0,1,1,1,1],  # 10\n",
    "    [0,0,0,0,0,0,0,0,0,1,0,1,0,1],  # 11\n",
    "    [0,0,0,0,0,0,0,0,0,1,0,0,1,0],  # 12\n",
    "    [0,0,0,0,0,0,0,0,0,1,0,0,0,1],  # 13\n",
    "    [0,0,0,0,0,0,0,0,0,1,0,0,0,0],  # 14\n",
    "])\n",
    "\n",
    "Pmatrice = puissance_iteree(matrice.T, 0.00001)\n",
    "print(\"Score de chaque noeuds :\")\n",
    "for i in range(0,len(Pmatrice[1])-1):\n",
    "    print(i,\":\", Pmatrice[1][i])\n",
    "print(norme(np.dot(matrice,Pmatrice[1]) - Pmatrice[0] * Pmatrice[1] ), \"\\n\")"
   ]
  }
 ],
 "metadata": {
  "kernelspec": {
   "display_name": "Python 3 (ipykernel)",
   "language": "python",
   "name": "python3"
  },
  "language_info": {
   "codemirror_mode": {
    "name": "ipython",
    "version": 3
   },
   "file_extension": ".py",
   "mimetype": "text/x-python",
   "name": "python",
   "nbconvert_exporter": "python",
   "pygments_lexer": "ipython3",
   "version": "3.11.0"
  }
 },
 "nbformat": 4,
 "nbformat_minor": 5
}
