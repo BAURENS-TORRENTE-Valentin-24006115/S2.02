{
 "cells": [
  {
   "cell_type": "markdown",
   "id": "44749bae-4145-43e7-ace1-91da1891683a",
   "metadata": {},
   "source": [
    "# S2.02 - Exploration algorithmique d’un problème\n",
    "## Amroune Akim - Antoine Thomas - Baurens-Torrente Valentin - Sene Pablo\n",
    "___\n",
    "### Partie 1 :\n",
    "#### 1."
   ]
  },
  {
   "cell_type": "code",
   "execution_count": 70,
   "id": "97807ad3-a134-405b-a76f-2fcce9898ade",
   "metadata": {},
   "outputs": [
    {
     "name": "stdout",
     "output_type": "stream",
     "text": [
      "(6.866319725770029, array([0.64423597, 0.38301611, 0.66201108])) \n",
      "\n",
      "0.00042623815878826114 \n",
      "\n"
     ]
    }
   ],
   "source": [
    "import numpy as np\n",
    "import matplotlib.pyplot as plt\n",
    "# Fonction puissance iteree TP S2.02\n",
    "def norme(X):\n",
    "    \"\"\"\n",
    "    Calcule la norme d'un vecteur\n",
    "        in: X [array int/float]\n",
    "        \n",
    "        out: [float]\n",
    "    \"\"\"\n",
    "    total = 0\n",
    "    for i in X:\n",
    "        total += i**2\n",
    "    return np.sqrt(total)\n",
    "\n",
    "def puissance_iteree(A,s):\n",
    "    \"\"\"\n",
    "    calcule la valeur propre et le vecteur propre\n",
    "    d'une matrice adjacente selon un seuil\n",
    "        in:\tA [array of array int/float]\n",
    "            s [float]\n",
    "            \n",
    "        out: Valeur propre [float], Vecteur propre [array float]\n",
    "    \"\"\"\n",
    "    XN = np.ones(len(A)) / len(A)\n",
    "    AXN = np.dot(A,XN)\n",
    "    XN1 = (AXN / norme(AXN))\n",
    "    while norme(XN1 - XN) > s:\n",
    "        XN = XN1\n",
    "        AXN = np.dot(A,XN)\n",
    "        XN1 = AXN / norme(AXN)\n",
    "    return norme(np.dot(A,XN)), XN # Valeur propre et Vecteur propres\n",
    "\n",
    "C = np.array([\n",
    "        [2,3,3],\n",
    "        [1,0,3],\n",
    "        [1,5,3]\n",
    "    ])\n",
    "\n",
    "Pc = puissance_iteree(C, 0.0001)\n",
    "print(Pc, \"\\n\")\n",
    "print(norme(np.dot(C,Pc[1]) - Pc[0] * Pc[1] ), \"\\n\")"
   ]
  },
  {
   "cell_type": "markdown",
   "id": "dc4b2914-4869-460f-b941-085b31bf715f",
   "metadata": {},
   "source": [
    "L'algorithme de la puissance itérée permet de calculé le score de chaque pages car celui-ci revoie le vecteur propres de la matrice donnée qui correspond a la vecteur r, qui est le vecteur des scores de chaques pages"
   ]
  },
  {
   "cell_type": "markdown",
   "id": "5b18f12c-3e5d-4462-a685-1be2ff657051",
   "metadata": {},
   "source": [
    "#### 2."
   ]
  },
  {
   "cell_type": "code",
   "execution_count": 71,
   "id": "6acc3716-4699-4747-9359-63b4ea038c4a",
   "metadata": {},
   "outputs": [
    {
     "name": "stdout",
     "output_type": "stream",
     "text": [
      "Score de chaque noeud :\n",
      "1 : 0.4377007325597212\n",
      "2 : 0.08754067724942365\n",
      "3 : 0.11672114023607158\n",
      "4 : 0.14590177879494587\n",
      "5 : 0.1896727330643801\n",
      "6 : 0.5252091640214921\n",
      "7 : 0.17506778881552784\n",
      "8 : 0.3501335047518601\n",
      "9 : 0.17506778881552784\n",
      "10 : 0.43770073255972114\n",
      "11 : 0.08754067724942365\n",
      "12 : 0.11672114023607158\n",
      "13 : 0.14590177879494587\n",
      "14 : 0.1896727330643801\n",
      "Valeur propre:  1.0000012541636143\n",
      "Verification :  7.965668085510968e-06 \n",
      "\n"
     ]
    }
   ],
   "source": [
    "A_partie1 = np.array([\n",
    "    [0,1,1,1,1,1,0,0,0,0,0,0,0,0],\n",
    "    [1,0,1,0,1,0,0,0,0,0,0,0,0,0],\n",
    "    [1,0,0,1,0,0,0,0,0,0,0,0,0,0],\n",
    "    [1,0,0,0,1,0,0,0,0,0,0,0,0,0],\n",
    "    [1,0,0,0,0,0,0,0,0,0,0,0,0,0],\n",
    "    [0,0,0,0,0,0,1,1,1,0,0,0,0,0],\n",
    "    [1,0,0,0,0,0,0,1,0,0,0,0,0,0],\n",
    "    [0,0,0,0,0,1,0,0,0,0,0,0,0,0],\n",
    "    [0,0,0,0,0,0,0,1,0,1,0,0,0,0],\n",
    "    [0,0,0,0,0,1,0,0,0,0,1,1,1,1],\n",
    "    [0,0,0,0,0,0,0,0,0,1,0,1,0,1],\n",
    "    [0,0,0,0,0,0,0,0,0,1,0,0,1,0],\n",
    "    [0,0,0,0,0,0,0,0,0,1,0,0,0,1], \n",
    "    [0,0,0,0,0,0,0,0,0,1,0,0,0,0]\n",
    "])\n",
    "def PageRank1(A):\n",
    "    \"\"\"\n",
    "    renvoie score de chaque page d'apres une matrice d'adjacence selon le TP de la S2.02\n",
    "        in: A [array of array int/float]\n",
    "        \n",
    "        out: Q [array of array float]\n",
    "             R[Valeur propre [float], Vecteur propre [array float]]\n",
    "    \"\"\"\n",
    "    C = A.T #Transposée de A\n",
    "    \n",
    "    # Calcul du score de chaque noeud\n",
    "    Nj = np.zeros((len(C)),dtype=int)\n",
    "    for i in range(len(C)):\n",
    "        for j in range(len(C)):\n",
    "            Nj[i] += C[j][i]\n",
    "    \n",
    "    # Calcul du score de chaque noeud\n",
    "    Q = np.where(Nj != 0, C / Nj,0)\n",
    "    \n",
    "    # Calcul de la puissance itérée\n",
    "    R = puissance_iteree(Q, 1e-5)\n",
    "    return Q, R\n",
    "\n",
    "Q1,R1 = PageRank1(A_partie1)\n",
    "# Affichage des résultats\n",
    "print(\"Score de chaque noeud :\")\n",
    "for i in range(0,len(R1[1])):\n",
    "    print(i+1,\":\", R1[1][i])\n",
    "\n",
    "\n",
    "print(\"Valeur propre: \",R1[0]) # devrait être proche de 1\n",
    "print(\"Verification : \",norme(np.dot(Q1,R1[1]) - R1[0] * R1[1] ), \"\\n\") # devrait être proche de 0"
   ]
  },
  {
   "cell_type": "markdown",
   "id": "22cb3679-404c-45cf-93df-011c4725ddb7",
   "metadata": {},
   "source": [
    "#### 3."
   ]
  },
  {
   "cell_type": "markdown",
   "id": "e8d97e6f-5ca2-4c47-bc3e-0b4479518593",
   "metadata": {},
   "source": [
    "En observant les résultats de la question précédente, nous observons premièrement que la valeur propre se rapproche de 1 au fur et à mesure que l'on diminue le seuil. Puis, lorsque l'on vérifie en effectuant le calcul : norme(Q * vecteur propre) - valeur propre * vecteur propre\n",
    "Le résultat se rapproche de 0 selon le seuil donné à la fonction puissance_iteree()"
   ]
  },
  {
   "cell_type": "markdown",
   "id": "65b25105-3668-4386-99f1-418af46ad54a",
   "metadata": {},
   "source": [
    "___\n",
    "### Partie 2\n",
    "#### 1."
   ]
  },
  {
   "cell_type": "code",
   "execution_count": 72,
   "id": "04ce75ea-5cd9-4020-8777-54cd3e267e26",
   "metadata": {},
   "outputs": [
    {
     "name": "stdout",
     "output_type": "stream",
     "text": [
      "Score de chaque noeuds: \n",
      "1 : 1.0\n",
      "2 : 0.0\n",
      "3 : 0.0\n",
      "4 : 0.0\n",
      "5 : 0.0\n",
      "Valeur propres:  0.0\n",
      "Verification :  0.0 \n",
      "\n",
      "r ≈ Qr : [ True  True  True  True  True]\n"
     ]
    },
    {
     "name": "stderr",
     "output_type": "stream",
     "text": [
      "/tmp/ipykernel_4197/3771631362.py:34: RuntimeWarning: invalid value encountered in divide\n",
      "  Q = np.where(Nj != 0, C / Nj,0)\n",
      "/tmp/ipykernel_4197/3358300768.py:31: RuntimeWarning: invalid value encountered in divide\n",
      "  XN1 = AXN / norme(AXN)\n"
     ]
    }
   ],
   "source": [
    "A_partie2 = np.array([[0,0,0,0,0],\n",
    "           [1,0,0,0,0],\n",
    "           [1,0,0,1,0],\n",
    "           [1,1,0,0,0],\n",
    "           [1,1,0,0,0]])\n",
    "\n",
    "Q2,R2 = PageRank1(A_partie2)\n",
    "print(\"Score de chaque noeuds: \")\n",
    "for i in range(0,len(R2[1])):\n",
    "    print(i+1,\":\", R2[1][i])\n",
    "\n",
    "print(\"Valeur propres: \", R2[0]) # devrait être proche de 1\n",
    "print(\"Verification : \",norme(np.dot(Q2,R2[1]) - R2[0] * R2[1] ), \"\\n\") # doit être proche de 0\n",
    "print(\"r ≈ Qr :\", np.dot(Q2,R2[1]) - R2[1] < 1e-5 ) # doit être un vecteur de True"
   ]
  },
  {
   "cell_type": "markdown",
   "id": "42980b93-51cc-47b3-8ad8-146b03cdd4dd",
   "metadata": {},
   "source": [
    "En appliquant l'algorithme de la Partie 1 au graphe de la Partie 2, on obtient dans le résultat une erreur dans la division. Cela s'explique par le fait qu'il y a des puits. Comme certains sommets ne renvoient rien, on ne peut pas retourner en arrière donc on obtient un mauvais résultat. C'est dire que chaque sommet représente des sites et que chaque arête représente des liens vers le site pointé par la flèche. Par exemple, le sommet 3 a une arête pointant vers 1 signifiant que le site 3 a un lien vers le site 1. Le site 3 n'a aucun lien vers lui."
   ]
  },
  {
   "cell_type": "markdown",
   "id": "e5af2382-3559-40ef-862d-2753ada3e057",
   "metadata": {},
   "source": [
    "#### 2."
   ]
  },
  {
   "cell_type": "code",
   "execution_count": 73,
   "id": "13b6a113-78d0-4b15-a84f-224d607453db",
   "metadata": {
    "scrolled": true
   },
   "outputs": [
    {
     "name": "stdout",
     "output_type": "stream",
     "text": [
      "Score de chaque page:\n",
      "1 : 0.8258235206219151\n",
      "2 : 0.40102176722437505\n",
      "3 : 0.19748639949968277\n",
      "4 : 0.2814165933721179\n",
      "5 : 0.19748639949968277\n",
      "Valeur propres : 0.9999984239080435\n",
      "Verification : 3.1821457213328193e-06\n",
      "r ≈ Pr : [ True  True  True  True  True]\n"
     ]
    },
    {
     "name": "stderr",
     "output_type": "stream",
     "text": [
      "/tmp/ipykernel_4197/302706703.py:33: RuntimeWarning: invalid value encountered in divide\n",
      "  Q = np.where(Nj != 0, C / Nj, 0)\n"
     ]
    }
   ],
   "source": [
    "# Fonction pour calculer la matrice stochastique\n",
    "def stochastique(Q, Nj, alpha):\n",
    "    \"\"\"\n",
    "    Renvoie une matrice stochastique de la matrice Q a l'aide de Nj et d'alpha\n",
    "        in: Q [array of array int/float]\n",
    "            Nj [array int]\n",
    "            alpha [float]\n",
    "\n",
    "        out: P [array of array float]\n",
    "    \"\"\"\n",
    "    N = len(Q)\n",
    "    P = np.where(Nj != 0, alpha * Q + (1-alpha)/N, 1/N)\n",
    "    return P\n",
    "        \n",
    "def PageRank2(A,alpha=0.85):\n",
    "    \"\"\"\n",
    "    Renvoie score de chaque page d'apres une matrice d'adjacence selon la demande de la partie 2\n",
    "        in: A [array of array int/float]\n",
    "            alpha=0.85 [float]\n",
    "            \n",
    "        out: Q [array of array float]\n",
    "             R[Valeur propre [float], Vecteur propre [array float]]\n",
    "    \"\"\"\n",
    "    C = A.T #Transposée de A\n",
    "    \n",
    "    # Calcul de la matrice des dégrés entrants\n",
    "    Nj = np.zeros((len(C)),dtype=int)\n",
    "    for i in range(len(C)):\n",
    "        for j in range(len(C)):\n",
    "            Nj[i] += C[j][i]\n",
    "    \n",
    "    # Calcul de la matrice Q pour calculer la matrice stochastique de transition\n",
    "    Q = np.where(Nj != 0, C / Nj, 0)\n",
    "    \n",
    "    # Calcul de la matrice stochastique de transition\n",
    "    P = stochastique(Q,Nj,alpha)\n",
    "    \n",
    "    # Calcul du score de chaque page avec la méthode de la puissance itérée\n",
    "    R = puissance_iteree(P, 1e-5)\n",
    "\n",
    "    return P, R\n",
    "    \n",
    "P2, R2 = PageRank2(A_partie2)\n",
    "# Affichage des résultats\n",
    "print(\"Score de chaque page:\")\n",
    "for i in range(0,len(R2[1])):\n",
    "    print(i+1,\":\", R2[1][i])\n",
    "\n",
    "print(\"Valeur propres :\",R2[0]) # Devrait etre proche de 1\n",
    "print(\"Verification :\",norme(np.dot(P2,R2[1]) - R2[0] * R2[1] )) # Devrait etre proche de 0\n",
    "print(\"r ≈ Pr :\", np.dot(P2,R2[1]) - R2[1] < 1e-5 ) # Devrait renvoyer un vecteur de True"
   ]
  },
  {
   "cell_type": "markdown",
   "id": "d20b62ac-9033-4f07-94c7-b172fcbb7c52",
   "metadata": {},
   "source": [
    "___\n",
    "### Partie 3\n",
    "#### 1.\n",
    "Le critère d'arrêt dans l'algorithme de la puissance itérée à comme influence de définir le niveau de précision des résultats.\n",
    "#### 2.\n",
    "![graphe de la partie 1 modifiée](Matrice.webp \"Graphe de la partie 1 modifié\")"
   ]
  },
  {
   "cell_type": "code",
   "execution_count": 74,
   "id": "6fd02c08-0186-4529-80a8-47906e22e3cf",
   "metadata": {},
   "outputs": [
    {
     "data": {
      "image/png": "[encoded data removed]",
      "text/plain": [
       "<Figure size 640x480 with 1 Axes>"
      ]
     },
     "metadata": {},
     "output_type": "display_data"
    }
   ],
   "source": [
    "A_partie3 = np.array([\n",
    "    [0,1,1,1,1,1,1,1,1,1,0,0,0,0],  # Hub: ajout de liens vers 7,8,9\n",
    "    [1,0,1,0,1,0,0,0,0,0,0,0,0,0],\n",
    "    [1,0,0,1,0,0,0,0,0,0,0,0,0,0],\n",
    "    [1,0,0,0,1,0,0,0,0,0,0,0,0,0],\n",
    "    [1,0,0,0,0,0,0,0,0,0,0,0,0,0],\n",
    "    [0,0,0,0,0,0,1,1,1,0,0,0,0,0],\n",
    "    [1,0,0,0,0,0,0,1,0,0,0,0,0,0],\n",
    "    [1,0,0,0,0,1,0,0,0,0,0,0,0,0],  # Modifié pour recevoir plus de liens\n",
    "    [1,0,0,0,0,0,0,1,0,1,0,0,0,0],\n",
    "    [1,0,0,0,0,1,0,0,0,0,1,1,1,1],  # Hub existant\n",
    "    [0,0,0,0,0,0,0,0,0,1,0,1,0,1],\n",
    "    [0,0,0,0,0,0,0,0,0,1,0,0,1,0],\n",
    "    [0,0,0,0,0,0,0,0,0,1,0,0,0,1], \n",
    "    [0,0,0,0,0,0,0,1,0,1,0,0,0,0]   # Autorité: reçoit des liens de 1,7,9\n",
    "])\n",
    "\n",
    "P3, R3 = PageRank2(A_partie3)\n",
    "\n",
    "# Affichage des resultats\n",
    "N = [i for i in range(1,len(A_partie3)+1)]\n",
    "plt.bar(N, R1[1], align='center')\n",
    "plt.bar(N, R3[1], color='red', width=0.5)\n",
    "plt.title(\"Différence entre les scores de la parti 1 et de la parti 3\")\n",
    "plt.legend([\"Score Partie 1\", \"Score Partie 3\"], loc=\"upper right\")\n",
    "plt.xticks(range(int(min(N)), int(max(N))+1, 1))\n",
    "plt.show()"
   ]
  },
  {
   "cell_type": "markdown",
   "id": "abef952d-83e3-461d-beda-2cab43301063",
   "metadata": {},
   "source": [
    "Dans la configuration du graphe de la partie 3, nous pouvons constater que les sommets **1**, **8**, **10** et **6** ont subis des **changements conséquents**. Par exemple, le score du sommet **1** (qui est un hub et une autorité) à considérablement **augmenté**. Au contraire, le score du sommet **6**, qui est un sommet normal, à largement **diminué**.\n",
    "#### 3."
   ]
  },
  {
   "cell_type": "markdown",
   "id": "42f85ef0-87e4-4f6c-9a48-58af00b1fb32",
   "metadata": {},
   "source": [
    "Dans le code suivant, nous allons essayer d'augmenter les valeurs de la page **14** et **11**. Pour cela nous allons essayer de relier des pages ayant des scores élevée au point **11** et **14**"
   ]
  },
  {
   "cell_type": "code",
   "execution_count": 75,
   "id": "ddc57ff6-d9c6-48ed-ac91-17301925d070",
   "metadata": {},
   "outputs": [
    {
     "data": {
      "image/png": "[encoded data removed]",
      "text/plain": [
       "<Figure size 640x480 with 1 Axes>"
      ]
     },
     "metadata": {},
     "output_type": "display_data"
    }
   ],
   "source": [
    "A_partie3_3 = np.array([\n",
    "    [0,1,1,1,1,1,1,1,1,1,0,0,0,1], # ajout d'un lien vers 14\n",
    "    [1,0,1,0,1,0,0,0,0,0,0,0,0,0],\n",
    "    [1,0,0,1,0,0,0,0,0,0,0,0,0,0],\n",
    "    [1,0,0,0,1,0,0,0,0,0,0,0,0,0],\n",
    "    [1,0,0,0,0,0,0,0,0,0,0,0,0,1], # ajout d'un lien vers 14\n",
    "    [0,0,0,0,0,0,1,1,1,0,1,0,0,0], # ajout d'un lien vers 11\n",
    "    [1,0,0,0,0,0,0,1,0,0,0,0,0,0],\n",
    "    [1,0,0,0,0,1,0,0,0,0,0,0,0,0], # ajout d'un lien vers 11\n",
    "    [1,0,0,0,0,0,0,1,0,1,0,0,0,0],\n",
    "    [1,0,0,0,0,1,0,0,0,0,1,1,1,1],  \n",
    "    [0,0,0,0,0,0,0,0,0,1,0,1,0,1],\n",
    "    [0,0,0,0,0,0,0,0,0,1,0,0,1,0],\n",
    "    [0,0,0,0,0,0,0,0,0,1,0,0,0,1], \n",
    "    [0,0,0,0,0,0,0,1,0,1,0,0,0,0]   \n",
    "])\n",
    "\n",
    "P3_3, R3_3 = PageRank2(A_partie3_3)\n",
    "\n",
    "# Affichage des resultats\n",
    "plt.bar(N, R1[1], align='center')\n",
    "plt.bar(N, R3[1], align='center', color='red',width=0.5)\n",
    "plt.bar(N, R3_3[1], color='purple', width=0.25)\n",
    "plt.title(\"Différence entre les scores de la parti 1 et de la parti 3 (2 et 3)\")\n",
    "plt.legend([\"Score Partie 1\", \"Score Partie 3 exo 2\" , \"Score Partie 3 exo 3\"], loc=\"upper right\")\n",
    "plt.xticks(range(int(min(N)), int(max(N))+1, 1))\n",
    "plt.show()"
   ]
  },
  {
   "cell_type": "markdown",
   "id": "c0b9968c-3482-4245-9350-da84a00832c4",
   "metadata": {},
   "source": [
    "#### 4."
   ]
  },
  {
   "cell_type": "code",
   "execution_count": 76,
   "id": "bb8e1974-7bec-4a2b-a161-64e911890c04",
   "metadata": {},
   "outputs": [
    {
     "data": {
      "image/png": "[encoded data removed]",
      "text/plain": [
       "<Figure size 640x480 with 1 Axes>"
      ]
     },
     "metadata": {},
     "output_type": "display_data"
    }
   ],
   "source": [
    "alpha = []\n",
    "for i in range(3,10,3):\n",
    "    P, R = PageRank2(A_partie3_3, alpha=i/10)\n",
    "    alpha.append(\"α=\"+str(i/10))\n",
    "    plt.plot(N, R[1])\n",
    "plt.legend(alpha, loc=\"upper right\", fontsize=\"x-small\")\n",
    "plt.xticks(range(int(min(N)), int(max(N))+1, 1))\n",
    "plt.show()"
   ]
  },
  {
   "cell_type": "markdown",
   "id": "2afc4ef8-b985-4825-bf43-88049af2647a",
   "metadata": {},
   "source": [
    "A partir du schéma, nous pouvons conclure que l'influence qu'à le facteur d'amortissement sur la courbe est qu'elle s'égalise entre les scores lorsque ce facteur se rapproche de 0. Au contraire, quand ce facteur se rapproche de 1, on peut voir que la courbe est beaucoup moins homogène."
   ]
  },
  {
   "cell_type": "markdown",
   "id": "4efeeb64-d70c-4bf3-b307-f0bf8785ec29",
   "metadata": {},
   "source": [
    "___\n",
    "### Partie 4\n",
    "#### 1."
   ]
  },
  {
   "cell_type": "markdown",
   "id": "2101e371-69bf-4b7e-a0b8-948a3b77eb90",
   "metadata": {},
   "source": [
    "##### Youtube\n",
    "**Commande effectué:**\n",
    "\n",
    "./mat_adj_linux.out https://www.youtube.com/ 12 Partie4.YTB.12 \n",
    "\n",
    "\n",
    "**Resultat obtenue:**\n",
    "\n",
    ";extern;www.youtube.com;www.youtube.com/about;www.youtube.com/about/press;www.youtube.com/about/copyright;www.youtube.com/t/contact_us;www.youtube.com/creators;www.youtube.com/ads;www.youtube.com/t/terms;www.youtube.com/t/privacy;www.youtube.com/about/policies;www.youtube.com/howyoutubeworks?utm_campaign=ytgen&amp;utm_source=ythp&amp;utm_medium=LeftNav&amp;utm_content=txt&amp;u=https%3A%2F%2Fwww.youtube.com%2Fhowyoutubeworks%3Futm_source%3Dythp%26utm_medium%3DLeftNav%26utm_campaign%3Dytgen;www.youtube.com/new\n",
    "\n",
    "extern;0;1;1;1;1;1;1;1;1;1;1;1;1\n",
    "\n",
    "www.youtube.com;0;1;1;1;0;1;0;0;1;1;0;0;1\n",
    "\n",
    "www.youtube.com/about;0;1;1;0;0;0;0;1;0;0;0;1;1\n",
    "\n",
    "www.youtube.com/about/press;0;1;0;0;0;0;0;0;0;0;0;0;1\n",
    "\n",
    "www.youtube.com/about/copyright;0;1;1;0;0;0;0;1;0;0;0;1;1\n",
    "\n",
    "www.youtube.com/t/contact_us;0;1;0;0;0;0;0;0;0;0;0;0;1\n",
    "\n",
    "www.youtube.com/creators;0;1;1;1;0;0;1;1;0;0;0;1;1\n",
    "\n",
    "www.youtube.com/ads;0;1;1;1;0;0;0;1;0;0;0;1;1\n",
    "\n",
    "www.youtube.com/t/terms;0;1;1;1;0;1;0;1;1;0;0;1;1\n",
    "\n",
    "www.youtube.com/t/privacy;0;1;0;0;0;0;0;0;1;0;0;0;1\n",
    "\n",
    "www.youtube.com/about/policies;0;1;1;0;0;0;0;1;0;0;0;1;1\n",
    "\n",
    "www.youtube.com/howyoutubeworks?\n",
    "utm_campaign=ytgen&amp;utm_source=ythp&amp;utm_medium=LeftNav&amp;utm_content=txt&amp;u=https%3A%2F%2Fwww.youtube.com%2Fhowyoutubeworks%3Fu\n",
    "tm_source%3Dythp%26utm_medium%3DLeftNav%26utm_campaign%3Dytgen;0;1;0;0;0;0;0;0;0;0;0;0;1\n",
    "\n",
    "www.youtube.com/new;0;1;0;0;0;0;0;0;0;0;0;0;1"
   ]
  },
  {
   "cell_type": "code",
   "execution_count": null,
   "id": "fd956863-fe2b-44be-9ce8-4720c398e0c7",
   "metadata": {},
   "outputs": [],
   "source": [
    "# Matrice Youtube de profondeur 12\n",
    "Matrice_Youtube = np.array([\n",
    "    [1,1,1,0,1,0,0,1,1,0,0,1],\n",
    "    [1,1,0,0,0,0,1,0,0,0,1,1],\n",
    "    [1,0,0,0,0,0,0,0,0,0,0,1],\n",
    "    [1,1,0,0,0,0,1,0,0,0,1,1],\n",
    "    [1,0,0,0,0,0,0,0,0,0,0,1],\n",
    "    [1,1,1,0,0,1,1,0,0,0,1,1],\n",
    "    [1,1,1,0,0,0,1,0,0,0,1,1],\n",
    "    [1,1,1,0,1,0,1,1,0,0,1,1],\n",
    "    [1,0,0,0,0,0,0,1,0,0,0,1],\n",
    "    [1,1,0,0,0,0,1,0,0,0,1,1],\n",
    "    [1,0,0,0,0,0,0,0,0,0,0,1],\n",
    "    [1,0,0,0,0,0,0,0,0,0,0,1]\n",
    "])"
   ]
  },
  {
   "cell_type": "markdown",
   "id": "feb3e431-96f2-44ae-aa1d-fb52b7d09fc4",
   "metadata": {},
   "source": [
    "##### GitHub\n",
    "\n",
    "**Commande effectué:**\n",
    "\n",
    "./mat_adj_linux.out https://github.com/ 16 Partie4.GIT.16 \n",
    "\n",
    "**Resultat obtenue:**\n",
    "\n",
    ";extern;github.com;github.com/login;github.com/features/copilot;github.com/features/models;github.com/security/advanced-security;github.com/features/actions;github.com/features/codespaces;github.com/features/issues;github.com/features/code-review;github.com/features/discussions;github.com/features/code-search;github.com/why-github;github.com/features;github.com/enterprise;github.com/team;github.com/enterprise/startups\n",
    "\n",
    "extern;0;1;1;1;1;1;1;1;1;1;1;1;1;1;1;1;1\n",
    "\n",
    "github.com;0;1;0;1;1;1;1;1;1;1;1;1;1;1;1;1;1\n",
    "\n",
    "github.com/login;0;1;0;0;0;0;0;0;0;0;0;0;0;0;0;0;0\n",
    "\n",
    "github.com/features/copilot;0;1;0;1;1;1;1;1;1;1;1;1;1;1;1;1;1\n",
    "\n",
    "github.com/features/models;0;1;0;1;1;1;1;1;1;1;1;1;1;1;1;1;1\n",
    "\n",
    "github.com/security/advanced-security;0;1;0;1;1;1;1;1;1;1;1;1;1;1;1;1;1\n",
    "\n",
    "github.com/features/actions;0;1;0;1;1;1;1;1;1;1;1;1;1;1;1;1;1\n",
    "\n",
    "github.com/features/codespaces;0;1;0;1;1;1;1;1;1;1;1;1;1;1;1;1;1\n",
    "\n",
    "github.com/features/issues;0;1;0;1;1;1;1;1;1;1;1;1;1;1;1;1;1\n",
    "\n",
    "github.com/features/code-review;0;1;0;1;1;1;1;1;1;1;1;1;1;1;1;1;1\n",
    "\n",
    "github.com/features/discussions;0;1;0;1;1;1;1;1;1;1;1;1;1;1;1;1;1\n",
    "\n",
    "github.com/features/code-search;0;1;0;1;1;1;1;1;1;1;1;1;1;1;1;1;1\n",
    "\n",
    "github.com/why-github;0;1;0;1;1;1;1;1;1;1;1;1;1;1;1;1;1\n",
    "\n",
    "github.com/features;0;1;0;1;1;1;1;1;1;1;1;1;1;1;1;1;1\n",
    "\n",
    "github.com/enterprise;0;1;0;1;1;1;1;1;1;1;1;1;1;1;1;1;1\n",
    "\n",
    "github.com/team;0;1;0;1;1;1;1;1;1;1;1;1;1;1;1;1;1\n",
    "\n",
    "github.com/enterprise/startups;0;1;0;1;1;1;1;1;1;1;1;1;1;1;1;1;1"
   ]
  },
  {
   "cell_type": "code",
   "execution_count": null,
   "id": "0c514acb-0233-4f26-ac3b-65ec62358e72",
   "metadata": {},
   "outputs": [],
   "source": [
    "# Matrice GitHub de profondeur 16\n",
    "Matrice_GitHub = np.array([\n",
    "        \n",
    "        \n",
    "\t[1,0,1,1,1,1,1,1,1,1,1,1,1,1,1,1],\n",
    "\t[1,0,0,0,0,0,0,0,0,0,0,0,0,0,0,0],\n",
    "\t[1,0,1,1,1,1,1,1,1,1,1,1,1,1,1,1],\n",
    "\t[1,0,1,1,1,1,1,1,1,1,1,1,1,1,1,1],\n",
    "\t[1,0,1,1,1,1,1,1,1,1,1,1,1,1,1,1],\n",
    "\t[1,0,1,1,1,1,1,1,1,1,1,1,1,1,1,1],\n",
    "\t[1,0,1,1,1,1,1,1,1,1,1,1,1,1,1,1],\n",
    "\t[1,0,1,1,1,1,1,1,1,1,1,1,1,1,1,1],\n",
    "\t[1,0,1,1,1,1,1,1,1,1,1,1,1,1,1,1],\n",
    "\t[1,0,1,1,1,1,1,1,1,1,1,1,1,1,1,1],\n",
    "\t[1,0,1,1,1,1,1,1,1,1,1,1,1,1,1,1],\n",
    "\t[1,0,1,1,1,1,1,1,1,1,1,1,1,1,1,1],\n",
    "\t[1,0,1,1,1,1,1,1,1,1,1,1,1,1,1,1],\n",
    "\t[1,0,1,1,1,1,1,1,1,1,1,1,1,1,1,1],\n",
    "\t[1,0,1,1,1,1,1,1,1,1,1,1,1,1,1,1],\n",
    "\t[1,0,1,1,1,1,1,1,1,1,1,1,1,1,1,1]\n",
    "\n",
    "    \n",
    "])"
   ]
  },
  {
   "cell_type": "markdown",
   "id": "d7302a53-ccb9-49b2-a041-86fe0ee9dc52",
   "metadata": {},
   "source": [
    "##### Discord\n",
    "**Commande effectué:**\n",
    "\n",
    "./mat_adj_linux.out https://discord.com/ 20 Partie4.DSC.20 \n",
    "\n",
    "**Resultat obtenue:**\n",
    "\n",
    ";extern;discord.com;discord.com/download;discord.com/nitro;discord.com/servers;discord.com/safety;discord.com/safety-news;discord.com/safety-library;discord.com/guidelines;discord.com/safety-privacy;discord.com/safety-policies;discord.com/safety-transparency;discord.com/safety-transparency-reports/2024-h1;discord.com/safety-family-center;discord.com/safety-parents;discord.com/safety-teen-charter;discord.com/ads/quests;discord.com/ads/quests-success-stories;discord.com/ads/quests-faq;discord.com/blog;discord.com/category/community\n",
    "\n",
    "extern;0;1;1;1;1;1;1;1;1;1;1;1;1;1;1;1;1;1;1;1;1\n",
    "\n",
    "discord.com;0;0;0;0;1;0;0;0;0;0;0;0;0;0;0;1;0;0;0;0;0\n",
    "\n",
    "discord.com/download;0;1;1;1;1;1;1;1;1;1;1;1;1;1;1;1;1;1;1;1;1\n",
    "\n",
    "discord.com/nitro;0;1;1;1;1;1;1;1;1;1;1;1;1;1;1;1;1;1;1;1;1\n",
    "\n",
    "discord.com/servers;0;1;1;1;0;1;1;1;1;1;1;1;1;1;1;1;1;1;1;1;1\n",
    "\n",
    "discord.com/safety;0;1;1;1;0;1;1;1;1;1;1;1;1;1;1;1;1;1;1;1;1\n",
    "\n",
    "discord.com/safety-news;0;1;1;1;0;1;1;1;1;1;1;1;1;1;1;1;1;1;1;1;1\n",
    "\n",
    "discord.com/safety-library;0;1;1;1;0;1;1;1;1;1;1;1;1;1;1;1;1;1;1;1;1\n",
    "\n",
    "discord.com/guidelines;0;1;1;1;1;1;1;1;1;1;1;1;1;1;1;1;1;1;1;1;1\n",
    "\n",
    "discord.com/safety-privacy;0;1;1;1;0;1;1;1;1;1;1;1;1;1;1;1;1;1;1;1;1\n",
    "\n",
    "discord.com/safety-policies;0;1;1;1;0;1;1;1;1;1;1;1;1;1;1;1;1;1;1;1;1\n",
    "\n",
    "discord.com/safety-transparency;0;1;1;1;0;1;1;1;1;1;1;1;1;1;1;1;1;1;1;1;1\n",
    "\n",
    "discord.com/safety-transparency-reports/2024-h1;0;1;1;1;0;1;1;1;1;1;1;1;1;1;1;1;1;1;1;1;1\n",
    "\n",
    "discord.com/safety-family-center;0;1;1;1;0;1;1;1;1;1;1;1;1;1;1;1;1;1;1;1;1\n",
    "\n",
    "discord.com/safety-parents;0;1;1;1;0;1;1;1;1;1;1;1;1;1;1;1;1;1;1;1;1\n",
    "\n",
    "discord.com/safety-teen-charter;0;1;1;1;0;1;1;1;1;1;1;1;1;1;1;1;1;1;1;1;1\n",
    "\n",
    "discord.com/ads/quests;0;1;1;1;1;1;1;1;1;1;1;1;1;1;1;1;1;1;1;1;1\n",
    "\n",
    "discord.com/ads/quests-success-stories;0;1;1;1;0;1;1;1;1;1;1;1;1;1;1;1;1;1;1;1;1\n",
    "\n",
    "discord.com/ads/quests-faq;0;1;1;1;0;1;1;1;1;1;1;1;1;1;1;1;1;1;1;1;1\n",
    "\n",
    "discord.com/blog;0;1;1;1;1;1;1;1;1;1;1;1;1;1;1;1;1;1;1;1;1\n",
    "\n",
    "discord.com/category/community;0;1;1;1;0;1;1;1;1;1;1;1;1;1;1;1;1;1;1;1;1"
   ]
  },
  {
   "cell_type": "code",
   "execution_count": null,
   "id": "d62e864f-e3e0-4d44-9941-24d47bd857f5",
   "metadata": {},
   "outputs": [],
   "source": [
    "# Matrice Discord de profondeur 20\n",
    "Matrice_Discord = np.array([   \n",
    "   [0,0,0,1,0,0,0,0,0,0,0,0,0,0,1,0,0,0,0,0],\n",
    "   [1,1,1,1,1,1,1,1,1,1,1,1,1,1,1,1,1,1,1,1],\n",
    "   [1,1,1,1,1,1,1,1,1,1,1,1,1,1,1,1,1,1,1,1],\n",
    "   [1,1,1,0,1,1,1,1,1,1,1,1,1,1,1,1,1,1,1,1],\n",
    "   [1,1,1,0,1,1,1,1,1,1,1,1,1,1,1,1,1,1,1,1],\n",
    "   [1,1,1,0,1,1,1,1,1,1,1,1,1,1,1,1,1,1,1,1],\n",
    "   [1,1,1,0,1,1,1,1,1,1,1,1,1,1,1,1,1,1,1,1],\n",
    "   [1,1,1,1,1,1,1,1,1,1,1,1,1,1,1,1,1,1,1,1],\n",
    "   [1,1,1,0,1,1,1,1,1,1,1,1,1,1,1,1,1,1,1,1],\n",
    "   [1,1,1,0,1,1,1,1,1,1,1,1,1,1,1,1,1,1,1,1],\n",
    "   [1,1,1,0,1,1,1,1,1,1,1,1,1,1,1,1,1,1,1,1],\n",
    "   [1,1,1,0,1,1,1,1,1,1,1,1,1,1,1,1,1,1,1,1],\n",
    "   [1,1,1,0,1,1,1,1,1,1,1,1,1,1,1,1,1,1,1,1],\n",
    "   [1,1,1,0,1,1,1,1,1,1,1,1,1,1,1,1,1,1,1,1],\n",
    "   [1,1,1,0,1,1,1,1,1,1,1,1,1,1,1,1,1,1,1,1],\n",
    "   [1,1,1,1,1,1,1,1,1,1,1,1,1,1,1,1,1,1,1,1],\n",
    "   [1,1,1,0,1,1,1,1,1,1,1,1,1,1,1,1,1,1,1,1],\n",
    "   [1,1,1,0,1,1,1,1,1,1,1,1,1,1,1,1,1,1,1,1],\n",
    "   [1,1,1,1,1,1,1,1,1,1,1,1,1,1,1,1,1,1,1,1],\n",
    "   [1,1,1,0,1,1,1,1,1,1,1,1,1,1,1,1,1,1,1,1]\n",
    "])"
   ]
  }
 ],
 "metadata": {
  "kernelspec": {
   "display_name": "Python 3 (ipykernel)",
   "language": "python",
   "name": "python3"
  },
  "language_info": {
   "codemirror_mode": {
    "name": "ipython",
    "version": 3
   },
   "file_extension": ".py",
   "mimetype": "text/x-python",
   "name": "python",
   "nbconvert_exporter": "python",
   "pygments_lexer": "ipython3",
   "version": "3.11.0"
  }
 },
 "nbformat": 4,
 "nbformat_minor": 5
}
