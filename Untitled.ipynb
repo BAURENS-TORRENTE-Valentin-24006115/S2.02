{
 "cells": [
  {
   "cell_type": "markdown",
   "id": "44749bae-4145-43e7-ace1-91da1891683a",
   "metadata": {},
   "source": [
    "# S2.02 - Exploration algorithmique d’un problème\n",
    "## Amroune Akim - Antoine Thomas - Baurens-Torrente Valentin - Sene Pablo\n",
    "\n",
    "### Partie 1 :\n",
    "#### 1."
   ]
  },
  {
   "cell_type": "code",
   "execution_count": 7,
   "id": "97807ad3-a134-405b-a76f-2fcce9898ade",
   "metadata": {},
   "outputs": [
    {
     "name": "stdout",
     "output_type": "stream",
     "text": [
      "(6.866319725770029, array([0.64423597, 0.38301611, 0.66201108])) \n",
      "\n",
      "0.00042623815878826114 \n",
      "\n"
     ]
    }
   ],
   "source": [
    "import matplotlib.pyplot as plt\n",
    "import numpy as np\n",
    "\n",
    "# Fonction puissance iteree TP S2.02\n",
    "def norme(X):\n",
    "    total = 0\n",
    "    for i in X:\n",
    "        total += i**2\n",
    "    return np.sqrt(total)\n",
    "\n",
    "def puissance_iteree(A,s):\n",
    "    XN = np.ones(len(A)) / len(A)\n",
    "    AXN = np.dot(A,XN)\n",
    "    XN1 = (AXN / norme(AXN))\n",
    "    while norme(XN1 - XN) > s:\n",
    "        XN = XN1\n",
    "        AXN = np.dot(A,XN)\n",
    "        XN1 = (AXN) / norme(AXN)\n",
    "    return norme(np.dot(A,XN)), XN # Valeur propre et Vecteur propres\n",
    "\n",
    "C = np.array([\n",
    "        [2,3,3],\n",
    "        [1,0,3],\n",
    "        [1,5,3]\n",
    "    ])\n",
    "\n",
    "Pc = puissance_iteree(C, 0.0001)\n",
    "print(Pc, \"\\n\")\n",
    "print(norme(np.dot(C,Pc[1]) - Pc[0] * Pc[1] ), \"\\n\")"
   ]
  },
  {
   "cell_type": "markdown",
   "id": "dc4b2914-4869-460f-b941-085b31bf715f",
   "metadata": {},
   "source": [
    "L'algorithme de la puissance itérée permet de calculé le score de chaque pages car celui-ci revoie le vecteur propres de la matrice donnée qui correspond a la vecteur r, qui est le vecteur des scores de chaques pages"
   ]
  },
  {
   "cell_type": "markdown",
   "id": "5b18f12c-3e5d-4462-a685-1be2ff657051",
   "metadata": {},
   "source": [
    "#### 2."
   ]
  },
  {
   "cell_type": "code",
   "execution_count": 9,
   "id": "6acc3716-4699-4747-9359-63b4ea038c4a",
   "metadata": {},
   "outputs": [
    {
     "name": "stdout",
     "output_type": "stream",
     "text": [
      "Score de chaque noeud :\n",
      "1 : 0.4377007325597212\n",
      "2 : 0.08754067724942365\n",
      "3 : 0.11672114023607158\n",
      "4 : 0.14590177879494587\n",
      "5 : 0.1896727330643801\n",
      "6 : 0.5252091640214921\n",
      "7 : 0.17506778881552784\n",
      "8 : 0.3501335047518601\n",
      "9 : 0.17506778881552784\n",
      "10 : 0.43770073255972114\n",
      "11 : 0.08754067724942365\n",
      "12 : 0.11672114023607158\n",
      "13 : 0.14590177879494587\n",
      "14 : 0.1896727330643801\n",
      "Valeur propre:  1.0000012541636143\n",
      "7.965668085510968e-06 \n",
      "\n",
      "\n"
     ]
    }
   ],
   "source": [
    "A = np.array([\n",
    "    [0,1,1,1,1,1,0,0,0,0,0,0,0,0],\n",
    "    [1,0,1,0,1,0,0,0,0,0,0,0,0,0],\n",
    "    [1,0,0,1,0,0,0,0,0,0,0,0,0,0],\n",
    "    [1,0,0,0,1,0,0,0,0,0,0,0,0,0],\n",
    "    [1,0,0,0,0,0,0,0,0,0,0,0,0,0],\n",
    "    [0,0,0,0,0,0,1,1,1,0,0,0,0,0],\n",
    "    [1,0,0,0,0,0,0,1,0,0,0,0,0,0],\n",
    "    [0,0,0,0,0,1,0,0,0,0,0,0,0,0],\n",
    "    [0,0,0,0,0,0,0,1,0,1,0,0,0,0],\n",
    "    [0,0,0,0,0,1,0,0,0,0,1,1,1,1],\n",
    "    [0,0,0,0,0,0,0,0,0,1,0,1,0,1],\n",
    "    [0,0,0,0,0,0,0,0,0,1,0,0,1,0],\n",
    "    [0,0,0,0,0,0,0,0,0,1,0,0,0,1], \n",
    "    [0,0,0,0,0,0,0,0,0,1,0,0,0,0]\n",
    "])\n",
    "\n",
    "C = A.T #Transposée de A\n",
    "\n",
    "Nj = np.zeros((len(C)),dtype=int)\n",
    "for i in range(len(C)):\n",
    "    for j in range(len(C)):\n",
    "        Nj[i] += C[j][i]\n",
    "\n",
    "Q = np.where(Nj != 0, C / Nj,0)\n",
    "\n",
    "R = puissance_iteree(Q, 1e-5)\n",
    "print(\"Score de chaque noeud :\")\n",
    "for i in range(0,len(R[1])):\n",
    "    print(i+1,\":\", R[1][i])\n",
    "print(\"Valeur propre: \",R[0])\n",
    "print(\"Verification : \",norme(np.dot(Q,R[1]) - R[0] * R[1] ), \"\\n\")"
   ]
  },
  {
   "cell_type": "markdown",
   "id": "22cb3679-404c-45cf-93df-011c4725ddb7",
   "metadata": {},
   "source": [
    "#### 3."
   ]
  },
  {
   "cell_type": "markdown",
   "id": "e8d97e6f-5ca2-4c47-bc3e-0b4479518593",
   "metadata": {},
   "source": [
    "En observant les résultats de la question précédente, nous observons premièrement que la valeur propre se rapproche de 1 au fur et à mesure que l'on diminue le seuil. Puis, lorsque l'on vérifie en effectuant le calcul : norme(Q * vecteur propre) - valeur propre * vecteur propre\n",
    "Le résultat se rapproche de 0 selon le seuil donné à la fonction puissance_iteree()"
   ]
  },
  {
   "cell_type": "markdown",
   "id": "65b25105-3668-4386-99f1-418af46ad54a",
   "metadata": {},
   "source": [
    "### Partie 2\n",
    "#### 1."
   ]
  },
  {
   "cell_type": "code",
   "execution_count": null,
   "id": "04ce75ea-5cd9-4020-8777-54cd3e267e26",
   "metadata": {},
   "outputs": [],
   "source": []
  }
 ],
 "metadata": {
  "kernelspec": {
   "display_name": "Python 3 (ipykernel)",
   "language": "python",
   "name": "python3"
  },
  "language_info": {
   "codemirror_mode": {
    "name": "ipython",
    "version": 3
   },
   "file_extension": ".py",
   "mimetype": "text/x-python",
   "name": "python",
   "nbconvert_exporter": "python",
   "pygments_lexer": "ipython3",
   "version": "3.11.0"
  }
 },
 "nbformat": 4,
 "nbformat_minor": 5
}
