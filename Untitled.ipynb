{
 "cells": [
  {
   "cell_type": "markdown",
   "id": "44749bae-4145-43e7-ace1-91da1891683a",
   "metadata": {},
   "source": [
    "# S2.02 - Exploration algorithmique d’un problème\n",
    "## Amroune Akim - Antoine Thomas - Baurens-Torrente Valentin - Sene Pablo\n",
    "\n",
    "### Partie 1 :\n",
    "#### 1."
   ]
  },
  {
   "cell_type": "code",
   "execution_count": 63,
   "id": "97807ad3-a134-405b-a76f-2fcce9898ade",
   "metadata": {},
   "outputs": [
    {
     "name": "stdout",
     "output_type": "stream",
     "text": [
      "(np.float64(6.866319725770029), array([0.64423597, 0.38301611, 0.66201108])) \n",
      "\n",
      "0.00042623815878911343 \n",
      "\n"
     ]
    }
   ],
   "source": [
    "import numpy as np\n",
    "\n",
    "# Fonction puissance iteree TP S2.02\n",
    "def norme(X):\n",
    "    total = 0\n",
    "    for i in X:\n",
    "        total += i**2\n",
    "    return np.sqrt(total)\n",
    "\n",
    "def puissance_iteree(A,s):\n",
    "    XN = np.ones(len(A)) / len(A)\n",
    "    AXN = np.dot(A,XN)\n",
    "    XN1 = (AXN / norme(AXN))\n",
    "    while norme(XN1 - XN) > s:\n",
    "        XN = XN1\n",
    "        AXN = np.dot(A,XN)\n",
    "        XN1 = AXN / norme(AXN)\n",
    "    return norme(np.dot(A,XN)), XN # Valeur propre et Vecteur propres\n",
    "\n",
    "C = np.array([\n",
    "        [2,3,3],\n",
    "        [1,0,3],\n",
    "        [1,5,3]\n",
    "    ])\n",
    "\n",
    "Pc = puissance_iteree(C, 0.0001)\n",
    "print(Pc, \"\\n\")\n",
    "print(norme(np.dot(C,Pc[1]) - Pc[0] * Pc[1] ), \"\\n\")"
   ]
  },
  {
   "cell_type": "markdown",
   "id": "dc4b2914-4869-460f-b941-085b31bf715f",
   "metadata": {},
   "source": [
    "L'algorithme de la puissance itérée permet de calculé le score de chaque pages car celui-ci revoie le vecteur propres de la matrice donnée qui correspond a la vecteur r, qui est le vecteur des scores de chaques pages"
   ]
  },
  {
   "cell_type": "markdown",
   "id": "5b18f12c-3e5d-4462-a685-1be2ff657051",
   "metadata": {},
   "source": [
    "#### 2."
   ]
  },
  {
   "cell_type": "code",
   "execution_count": 64,
   "id": "6acc3716-4699-4747-9359-63b4ea038c4a",
   "metadata": {},
   "outputs": [
    {
     "name": "stdout",
     "output_type": "stream",
     "text": [
      "Score de chaque noeud :\n",
      "1 : 0.4377007325597211\n",
      "2 : 0.08754067724942363\n",
      "3 : 0.11672114023607155\n",
      "4 : 0.14590177879494584\n",
      "5 : 0.18967273306438004\n",
      "6 : 0.5252091640214921\n",
      "7 : 0.17506778881552784\n",
      "8 : 0.35013350475186017\n",
      "9 : 0.17506778881552784\n",
      "10 : 0.4377007325597212\n",
      "11 : 0.08754067724942365\n",
      "12 : 0.11672114023607158\n",
      "13 : 0.1459017787949459\n",
      "14 : 0.1896727330643801\n",
      "Valeur propre:  1.0000012541636143\n",
      "Verification :  7.965668085554632e-06 \n",
      "\n"
     ]
    }
   ],
   "source": [
    "A = np.array([\n",
    "    [0,1,1,1,1,1,0,0,0,0,0,0,0,0],\n",
    "    [1,0,1,0,1,0,0,0,0,0,0,0,0,0],\n",
    "    [1,0,0,1,0,0,0,0,0,0,0,0,0,0],\n",
    "    [1,0,0,0,1,0,0,0,0,0,0,0,0,0],\n",
    "    [1,0,0,0,0,0,0,0,0,0,0,0,0,0],\n",
    "    [0,0,0,0,0,0,1,1,1,0,0,0,0,0],\n",
    "    [1,0,0,0,0,0,0,1,0,0,0,0,0,0],\n",
    "    [0,0,0,0,0,1,0,0,0,0,0,0,0,0],\n",
    "    [0,0,0,0,0,0,0,1,0,1,0,0,0,0],\n",
    "    [0,0,0,0,0,1,0,0,0,0,1,1,1,1],\n",
    "    [0,0,0,0,0,0,0,0,0,1,0,1,0,1],\n",
    "    [0,0,0,0,0,0,0,0,0,1,0,0,1,0],\n",
    "    [0,0,0,0,0,0,0,0,0,1,0,0,0,1], \n",
    "    [0,0,0,0,0,0,0,0,0,1,0,0,0,0]\n",
    "])\n",
    "\n",
    "C = A.T #Transposée de A\n",
    "\n",
    "# Calcul du score de chaque noeud\n",
    "Nj = np.zeros((len(C)),dtype=int)\n",
    "for i in range(len(C)):\n",
    "    for j in range(len(C)):\n",
    "        Nj[i] += C[j][i]\n",
    "\n",
    "# Calcul du score de chaque noeud\n",
    "Q = np.where(Nj != 0, C / Nj,0)\n",
    "\n",
    "# Calcul de la puissance itérée\n",
    "R = puissance_iteree(Q, 1e-5)\n",
    "\n",
    "# Affichage des résultats\n",
    "print(\"Score de chaque noeud :\")\n",
    "for i in range(0,len(R[1])):\n",
    "    print(i+1,\":\", R[1][i])\n",
    "\n",
    "\n",
    "print(\"Valeur propre: \",R[0]) # devrait être proche de 1\n",
    "print(\"Verification : \",norme(np.dot(Q,R[1]) - R[0] * R[1] ), \"\\n\") # devrait être proche de 0"
   ]
  },
  {
   "cell_type": "markdown",
   "id": "22cb3679-404c-45cf-93df-011c4725ddb7",
   "metadata": {},
   "source": [
    "#### 3."
   ]
  },
  {
   "cell_type": "markdown",
   "id": "e8d97e6f-5ca2-4c47-bc3e-0b4479518593",
   "metadata": {},
   "source": [
    "En observant les résultats de la question précédente, nous observons premièrement que la valeur propre se rapproche de 1 au fur et à mesure que l'on diminue le seuil. Puis, lorsque l'on vérifie en effectuant le calcul : norme(Q * vecteur propre) - valeur propre * vecteur propre\n",
    "Le résultat se rapproche de 0 selon le seuil donné à la fonction puissance_iteree()"
   ]
  },
  {
   "cell_type": "markdown",
   "id": "65b25105-3668-4386-99f1-418af46ad54a",
   "metadata": {},
   "source": [
    "### Partie 2\n",
    "#### 1."
   ]
  },
  {
   "cell_type": "code",
   "execution_count": 65,
   "id": "04ce75ea-5cd9-4020-8777-54cd3e267e26",
   "metadata": {},
   "outputs": [
    {
     "name": "stdout",
     "output_type": "stream",
     "text": [
      "Score de chaque noeuds: \n",
      "1 : 1.0\n",
      "2 : 0.0\n",
      "3 : 0.0\n",
      "4 : 0.0\n",
      "5 : 0.0\n",
      "Valeur propres:  0.0\n",
      "Verification :  0.0 \n",
      "\n",
      "r ≈ Qr : [ True  True  True  True  True]\n"
     ]
    },
    {
     "name": "stderr",
     "output_type": "stream",
     "text": [
      "C:\\Users\\Valentin\\AppData\\Local\\Temp\\ipykernel_11848\\1826454380.py:16: RuntimeWarning: invalid value encountered in divide\n",
      "  Q = np.where(Nj != 0, C / Nj,0)\n",
      "C:\\Users\\Valentin\\AppData\\Local\\Temp\\ipykernel_11848\\1350540862.py:17: RuntimeWarning: invalid value encountered in divide\n",
      "  XN1 = AXN / norme(AXN)\n"
     ]
    }
   ],
   "source": [
    "A = np.array([[0,0,0,0,0],\n",
    "           [1,0,0,0,0],\n",
    "           [1,0,0,1,0],\n",
    "           [1,1,0,0,0],\n",
    "           [1,1,0,0,0]])\n",
    "\n",
    "C = A.T #Transposée de A\n",
    "\n",
    "# Calcul du nombre de liens entrants pour chaque noeud\n",
    "Nj = np.zeros((len(C)),dtype=int)\n",
    "for i in range(len(C)):\n",
    "    for j in range(len(C)):\n",
    "        Nj[i] += C[j][i]\n",
    "\n",
    "# Normalisation de la matrice\n",
    "Q = np.where(Nj != 0, C / Nj,0)\n",
    "\n",
    "# Application de la méthode de puissance itérée\n",
    "R = puissance_iteree(Q, 1e-5)\n",
    "# Affichage des résultats\n",
    "print(\"Score de chaque noeuds: \")\n",
    "for i in range(0,len(R[1])):\n",
    "    print(i+1,\":\", R[1][i])\n",
    "\n",
    "print(\"Valeur propres: \", R[0]) # devrait être proche de 1\n",
    "print(\"Verification : \",norme(np.dot(Q,R[1]) - R[0] * R[1] ), \"\\n\") # doit être proche de 0\n",
    "print(\"r ≈ Qr :\", np.dot(Q,R[1]) - R[1] < 1e-5 ) # doit être un vecteur de True"
   ]
  },
  {
   "cell_type": "markdown",
   "id": "42980b93-51cc-47b3-8ad8-146b03cdd4dd",
   "metadata": {},
   "source": [
    "En appliquant l'algorithme de la Partie 1 au graphe de la Partie 2, on obtient dans le résultat une erreur dans la division. Cela s'explique par le fait qu'il y a des puits. Comme certains sommets ne renvoient rien, on ne peut pas retourner en arrière donc on obtient un mauvais résultat. C'est dire que chaque sommet représente des sites et que chaque arête représente des liens vers le site pointé par la flèche. Par exemple, le sommet 3 a une arête pointant vers 1 signifiant que le site 3 a un lien vers le site 1. Le site 3 n'a aucun lien vers lui."
   ]
  },
  {
   "cell_type": "markdown",
   "id": "e5af2382-3559-40ef-862d-2753ada3e057",
   "metadata": {},
   "source": [
    "#### 2."
   ]
  },
  {
   "cell_type": "code",
   "execution_count": 66,
   "id": "13b6a113-78d0-4b15-a84f-224d607453db",
   "metadata": {},
   "outputs": [
    {
     "name": "stdout",
     "output_type": "stream",
     "text": [
      "Score de chaque page:\n",
      "1 : 0.8258235206219151\n",
      "2 : 0.4010217672243751\n",
      "3 : 0.19748639949968275\n",
      "4 : 0.28141659337211783\n",
      "5 : 0.19748639949968275\n",
      "Valeur propres : 0.9999984239080435\n",
      "Verification : 3.182145721451739e-06 \n",
      "\n",
      "r ≈ Pr : [ True  True  True  True  True]\n"
     ]
    },
    {
     "name": "stderr",
     "output_type": "stream",
     "text": [
      "C:\\Users\\Valentin\\AppData\\Local\\Temp\\ipykernel_11848\\2250482439.py:18: RuntimeWarning: invalid value encountered in divide\n",
      "  Q = np.where(Nj != 0, C / Nj, 0)\n"
     ]
    }
   ],
   "source": [
    "A = np.array([\n",
    "    [0,0,0,0,0],\n",
    "    [1,0,0,0,0],\n",
    "    [1,0,0,1,0],\n",
    "    [1,1,0,0,0],\n",
    "    [1,1,0,0,0]\n",
    "])\n",
    "\n",
    "C = A.T #Transposée de A\n",
    "\n",
    "# Calcul de la matrice des dégrés entrants\n",
    "Nj = np.zeros((len(C)),dtype=int)\n",
    "for i in range(len(C)):\n",
    "    for j in range(len(C)):\n",
    "        Nj[i] += C[j][i]\n",
    "\n",
    "# Calcul de la matrice Q pour calculer la matrice stochastique de transition\n",
    "Q = np.where(Nj != 0, C / Nj, 0)\n",
    "\n",
    "# Fonction pour calculer la matrice stochastique\n",
    "def stochastique(Q, Nj, alpha=0.85):\n",
    "    N = len(Q)\n",
    "    P = np.where(Nj != 0, alpha * Q + (1-alpha)/N, 1/N)\n",
    "    return P\n",
    "\n",
    "# Calcul de la matrice stochastique de transition\n",
    "P = stochastique(Q,Nj)\n",
    "\n",
    "# Calcul du score de chaque page avec la méthode de la puissance itérée\n",
    "R = puissance_iteree(P, 1e-5)\n",
    "\n",
    "# Affichage des résultats\n",
    "print(\"Score de chaque page:\")\n",
    "for i in range(0,len(R[1])):\n",
    "    print(i+1,\":\", R[1][i])\n",
    "\n",
    "print(\"Valeur propres :\",R[0]) # Devrait etre proche de 1\n",
    "print(\"Verification :\",norme(np.dot(P,R[1]) - R[0] * R[1] ), \"\\n\") # Devrait etre proche de 0\n",
    "print(\"r ≈ Pr :\", np.dot(P,R[1]) - R[1] < 1e-5 ) # Devrait renvoyer un vecteur de True"
   ]
  }
 ],
 "metadata": {
  "kernelspec": {
   "display_name": "Python 3",
   "language": "python",
   "name": "python3"
  },
  "language_info": {
   "codemirror_mode": {
    "name": "ipython",
    "version": 3
   },
   "file_extension": ".py",
   "mimetype": "text/x-python",
   "name": "python",
   "nbconvert_exporter": "python",
   "pygments_lexer": "ipython3",
   "version": "3.11.9"
  }
 },
 "nbformat": 4,
 "nbformat_minor": 5
}
