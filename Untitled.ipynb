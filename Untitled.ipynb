{
 "cells": [
  {
   "cell_type": "markdown",
   "id": "44749bae-4145-43e7-ace1-91da1891683a",
   "metadata": {},
   "source": [
    "# S2.02 - Exploration algorithmique d’un problème\n",
    "## Amroune Akim - Antoine Thomas - Baurens-Torrente Valentin - Sene Pablo\n",
    "___\n",
    "### Partie 1 :\n",
    "#### 1."
   ]
  },
  {
   "cell_type": "code",
   "execution_count": 51,
   "id": "97807ad3-a134-405b-a76f-2fcce9898ade",
   "metadata": {},
   "outputs": [
    {
     "name": "stdout",
     "output_type": "stream",
     "text": [
      "(6.866319725770029, array([0.64423597, 0.38301611, 0.66201108])) \n",
      "\n",
      "0.00042623815878826114 \n",
      "\n"
     ]
    }
   ],
   "source": [
    "import numpy as np\n",
    "import matplotlib.pyplot as plt\n",
    "# Fonction puissance iteree TP S2.02\n",
    "def norme(X):\n",
    "    total = 0\n",
    "    for i in X:\n",
    "        total += i**2\n",
    "    return np.sqrt(total)\n",
    "\n",
    "def puissance_iteree(A,s):\n",
    "    XN = np.ones(len(A)) / len(A)\n",
    "    AXN = np.dot(A,XN)\n",
    "    XN1 = (AXN / norme(AXN))\n",
    "    while norme(XN1 - XN) > s:\n",
    "        XN = XN1\n",
    "        AXN = np.dot(A,XN)\n",
    "        XN1 = AXN / norme(AXN)\n",
    "    return norme(np.dot(A,XN)), XN # Valeur propre et Vecteur propres\n",
    "\n",
    "C = np.array([\n",
    "        [2,3,3],\n",
    "        [1,0,3],\n",
    "        [1,5,3]\n",
    "    ])\n",
    "\n",
    "Pc = puissance_iteree(C, 0.0001)\n",
    "print(Pc, \"\\n\")\n",
    "print(norme(np.dot(C,Pc[1]) - Pc[0] * Pc[1] ), \"\\n\")"
   ]
  },
  {
   "cell_type": "markdown",
   "id": "dc4b2914-4869-460f-b941-085b31bf715f",
   "metadata": {},
   "source": [
    "L'algorithme de la puissance itérée permet de calculé le score de chaque pages car celui-ci revoie le vecteur propres de la matrice donnée qui correspond a la vecteur r, qui est le vecteur des scores de chaques pages"
   ]
  },
  {
   "cell_type": "markdown",
   "id": "5b18f12c-3e5d-4462-a685-1be2ff657051",
   "metadata": {},
   "source": [
    "#### 2."
   ]
  },
  {
   "cell_type": "code",
   "execution_count": 52,
   "id": "6acc3716-4699-4747-9359-63b4ea038c4a",
   "metadata": {},
   "outputs": [
    {
     "name": "stdout",
     "output_type": "stream",
     "text": [
      "Score de chaque noeud :\n",
      "1 : 0.6711461843811599\n",
      "2 : 0.09623590466279078\n",
      "3 : 0.12350238595834497\n",
      "4 : 0.1487236625743269\n",
      "5 : 0.18670891107539217\n",
      "6 : 0.30374462536428604\n",
      "7 : 0.18229709946108152\n",
      "8 : 0.3773708294892362\n",
      "9 : 0.18229709946108152\n",
      "10 : 0.33264487587479175\n",
      "11 : 0.07997593510479925\n",
      "12 : 0.10263612927877505\n",
      "13 : 0.12359707321697322\n",
      "14 : 0.1551659908251608\n",
      "Valeur propre:  1.0000015415405261\n",
      "Verification :  0.3993459322353411 \n",
      "\n"
     ]
    }
   ],
   "source": [
    "A_partie1 = np.array([\n",
    "    [0,1,1,1,1,1,0,0,0,0,0,0,0,0],\n",
    "    [1,0,1,0,1,0,0,0,0,0,0,0,0,0],\n",
    "    [1,0,0,1,0,0,0,0,0,0,0,0,0,0],\n",
    "    [1,0,0,0,1,0,0,0,0,0,0,0,0,0],\n",
    "    [1,0,0,0,0,0,0,0,0,0,0,0,0,0],\n",
    "    [0,0,0,0,0,0,1,1,1,0,0,0,0,0],\n",
    "    [1,0,0,0,0,0,0,1,0,0,0,0,0,0],\n",
    "    [0,0,0,0,0,1,0,0,0,0,0,0,0,0],\n",
    "    [0,0,0,0,0,0,0,1,0,1,0,0,0,0],\n",
    "    [0,0,0,0,0,1,0,0,0,0,1,1,1,1],\n",
    "    [0,0,0,0,0,0,0,0,0,1,0,1,0,1],\n",
    "    [0,0,0,0,0,0,0,0,0,1,0,0,1,0],\n",
    "    [0,0,0,0,0,0,0,0,0,1,0,0,0,1], \n",
    "    [0,0,0,0,0,0,0,0,0,1,0,0,0,0]\n",
    "])\n",
    "def PageRank1(A):\n",
    "    C = A.T #Transposée de A\n",
    "    \n",
    "    # Calcul du score de chaque noeud\n",
    "    Nj = np.zeros((len(C)),dtype=int)\n",
    "    for i in range(len(C)):\n",
    "        for j in range(len(C)):\n",
    "            Nj[i] += C[j][i]\n",
    "    \n",
    "    # Calcul du score de chaque noeud\n",
    "    Q = np.where(Nj != 0, C / Nj,0)\n",
    "    \n",
    "    # Calcul de la puissance itérée\n",
    "    R = puissance_iteree(Q, 1e-5)\n",
    "    return Q, R\n",
    "\n",
    "Q1,R1 = PageRank1(A_partie1)\n",
    "# Affichage des résultats\n",
    "print(\"Score de chaque noeud :\")\n",
    "for i in range(0,len(R[1])):\n",
    "    print(i+1,\":\", R[1][i])\n",
    "\n",
    "\n",
    "print(\"Valeur propre: \",R[0]) # devrait être proche de 1\n",
    "print(\"Verification : \",norme(np.dot(Q,R[1]) - R[0] * R[1] ), \"\\n\") # devrait être proche de 0"
   ]
  },
  {
   "cell_type": "markdown",
   "id": "22cb3679-404c-45cf-93df-011c4725ddb7",
   "metadata": {},
   "source": [
    "#### 3."
   ]
  },
  {
   "cell_type": "markdown",
   "id": "e8d97e6f-5ca2-4c47-bc3e-0b4479518593",
   "metadata": {},
   "source": [
    "En observant les résultats de la question précédente, nous observons premièrement que la valeur propre se rapproche de 1 au fur et à mesure que l'on diminue le seuil. Puis, lorsque l'on vérifie en effectuant le calcul : norme(Q * vecteur propre) - valeur propre * vecteur propre\n",
    "Le résultat se rapproche de 0 selon le seuil donné à la fonction puissance_iteree()"
   ]
  },
  {
   "cell_type": "markdown",
   "id": "65b25105-3668-4386-99f1-418af46ad54a",
   "metadata": {},
   "source": [
    "___\n",
    "### Partie 2\n",
    "#### 1."
   ]
  },
  {
   "cell_type": "code",
   "execution_count": 53,
   "id": "04ce75ea-5cd9-4020-8777-54cd3e267e26",
   "metadata": {},
   "outputs": [
    {
     "name": "stdout",
     "output_type": "stream",
     "text": [
      "Score de chaque noeuds: \n",
      "1 : 0.6711461843811599\n",
      "2 : 0.09623590466279078\n",
      "3 : 0.12350238595834497\n",
      "4 : 0.1487236625743269\n",
      "5 : 0.18670891107539217\n",
      "6 : 0.30374462536428604\n",
      "7 : 0.18229709946108152\n",
      "8 : 0.3773708294892362\n",
      "9 : 0.18229709946108152\n",
      "10 : 0.33264487587479175\n",
      "11 : 0.07997593510479925\n",
      "12 : 0.10263612927877505\n",
      "13 : 0.12359707321697322\n",
      "14 : 0.1551659908251608\n",
      "Valeur propres:  1.0000015415405261\n",
      "Verification :  0.3993459322353411 \n",
      "\n",
      "r ≈ Qr : [ True False False False False False  True  True  True False  True  True\n",
      "  True  True]\n"
     ]
    },
    {
     "name": "stderr",
     "output_type": "stream",
     "text": [
      "/tmp/ipykernel_4875/2143645478.py:27: RuntimeWarning: invalid value encountered in divide\n",
      "  Q = np.where(Nj != 0, C / Nj,0)\n",
      "/tmp/ipykernel_4875/903655645.py:17: RuntimeWarning: invalid value encountered in divide\n",
      "  XN1 = AXN / norme(AXN)\n"
     ]
    }
   ],
   "source": [
    "A_partie2 = np.array([[0,0,0,0,0],\n",
    "           [1,0,0,0,0],\n",
    "           [1,0,0,1,0],\n",
    "           [1,1,0,0,0],\n",
    "           [1,1,0,0,0]])\n",
    "\n",
    "Q2,R2 = PageRank1(A_partie2)\n",
    "print(\"Score de chaque noeuds: \")\n",
    "for i in range(0,len(R[1])):\n",
    "    print(i+1,\":\", R[1][i])\n",
    "\n",
    "print(\"Valeur propres: \", R[0]) # devrait être proche de 1\n",
    "print(\"Verification : \",norme(np.dot(Q,R[1]) - R[0] * R[1] ), \"\\n\") # doit être proche de 0\n",
    "print(\"r ≈ Qr :\", np.dot(Q,R[1]) - R[1] < 1e-5 ) # doit être un vecteur de True"
   ]
  },
  {
   "cell_type": "markdown",
   "id": "42980b93-51cc-47b3-8ad8-146b03cdd4dd",
   "metadata": {},
   "source": [
    "En appliquant l'algorithme de la Partie 1 au graphe de la Partie 2, on obtient dans le résultat une erreur dans la division. Cela s'explique par le fait qu'il y a des puits. Comme certains sommets ne renvoient rien, on ne peut pas retourner en arrière donc on obtient un mauvais résultat. C'est dire que chaque sommet représente des sites et que chaque arête représente des liens vers le site pointé par la flèche. Par exemple, le sommet 3 a une arête pointant vers 1 signifiant que le site 3 a un lien vers le site 1. Le site 3 n'a aucun lien vers lui."
   ]
  },
  {
   "cell_type": "markdown",
   "id": "e5af2382-3559-40ef-862d-2753ada3e057",
   "metadata": {},
   "source": [
    "#### 2."
   ]
  },
  {
   "cell_type": "code",
   "execution_count": 54,
   "id": "13b6a113-78d0-4b15-a84f-224d607453db",
   "metadata": {
    "scrolled": true
   },
   "outputs": [
    {
     "name": "stdout",
     "output_type": "stream",
     "text": [
      "Score de chaque page:\n",
      "1 : 0.6711461843811599\n",
      "2 : 0.09623590466279078\n",
      "3 : 0.12350238595834497\n",
      "4 : 0.1487236625743269\n",
      "5 : 0.18670891107539217\n",
      "6 : 0.30374462536428604\n",
      "7 : 0.18229709946108152\n",
      "8 : 0.3773708294892362\n",
      "9 : 0.18229709946108152\n",
      "10 : 0.33264487587479175\n",
      "11 : 0.07997593510479925\n",
      "12 : 0.10263612927877505\n",
      "13 : 0.12359707321697322\n",
      "14 : 0.1551659908251608\n",
      "Valeur propres : 1.0000015415405261\n",
      "Verification : 6.4748141628381075e-06\n",
      "r ≈ Pr : [ True  True  True  True  True  True  True  True  True  True  True  True\n",
      "  True  True]\n"
     ]
    },
    {
     "name": "stderr",
     "output_type": "stream",
     "text": [
      "/tmp/ipykernel_4875/585593115.py:17: RuntimeWarning: invalid value encountered in divide\n",
      "  Q = np.where(Nj != 0, C / Nj, 0)\n"
     ]
    }
   ],
   "source": [
    "# Fonction pour calculer la matrice stochastique\n",
    "def stochastique(Q, Nj, alpha):\n",
    "    N = len(Q)\n",
    "    P = np.where(Nj != 0, alpha * Q + (1-alpha)/N, 1/N)\n",
    "    return P\n",
    "        \n",
    "def PageRank2(A,alpha=0.85):\n",
    "    C = A.T #Transposée de A\n",
    "    \n",
    "    # Calcul de la matrice des dégrés entrants\n",
    "    Nj = np.zeros((len(C)),dtype=int)\n",
    "    for i in range(len(C)):\n",
    "        for j in range(len(C)):\n",
    "            Nj[i] += C[j][i]\n",
    "    \n",
    "    # Calcul de la matrice Q pour calculer la matrice stochastique de transition\n",
    "    Q = np.where(Nj != 0, C / Nj, 0)\n",
    "    \n",
    "    # Calcul de la matrice stochastique de transition\n",
    "    P = stochastique(Q,Nj,alpha)\n",
    "    \n",
    "    # Calcul du score de chaque page avec la méthode de la puissance itérée\n",
    "    R = puissance_iteree(P, 1e-5)\n",
    "\n",
    "    return P, R\n",
    "    \n",
    "P2, R2 = PageRank2(A_partie2)\n",
    "# Affichage des résultats\n",
    "print(\"Score de chaque page:\")\n",
    "for i in range(0,len(R[1])):\n",
    "    print(i+1,\":\", R[1][i])\n",
    "\n",
    "print(\"Valeur propres :\",R[0]) # Devrait etre proche de 1\n",
    "print(\"Verification :\",norme(np.dot(P,R[1]) - R[0] * R[1] )) # Devrait etre proche de 0\n",
    "print(\"r ≈ Pr :\", np.dot(P,R[1]) - R[1] < 1e-5 ) # Devrait renvoyer un vecteur de True"
   ]
  },
  {
   "cell_type": "markdown",
   "id": "d20b62ac-9033-4f07-94c7-b172fcbb7c52",
   "metadata": {},
   "source": [
    "___\n",
    "### Partie 3\n",
    "#### 1.\n",
    "Le critère d'arrêt dans l'algorithme de la puissance itérée à comme influence de définir le niveau de précision des résultats.\n",
    "#### 2.\n"
   ]
  },
  {
   "cell_type": "code",
   "execution_count": 70,
   "id": "6fd02c08-0186-4529-80a8-47906e22e3cf",
   "metadata": {},
   "outputs": [
    {
     "data": {
      "image/png": "[encoded data removed]",
      "text/plain": [
       "<Figure size 640x480 with 1 Axes>"
      ]
     },
     "metadata": {},
     "output_type": "display_data"
    }
   ],
   "source": [
    "A_partie3 = np.array([\n",
    "    [0,1,1,1,1,1,1,1,1,1,0,0,0,0],  # Hub: ajout de liens vers 7,8,9\n",
    "    [1,0,1,0,1,0,0,0,0,0,0,0,0,0],\n",
    "    [1,0,0,1,0,0,0,0,0,0,0,0,0,0],\n",
    "    [1,0,0,0,1,0,0,0,0,0,0,0,0,0],\n",
    "    [1,0,0,0,0,0,0,0,0,0,0,0,0,0],\n",
    "    [0,0,0,0,0,0,1,1,1,0,0,0,0,0],\n",
    "    [1,0,0,0,0,0,0,1,0,0,0,0,0,0],\n",
    "    [1,0,0,0,0,1,0,0,0,0,0,0,0,0],  # Modifié pour recevoir plus de liens\n",
    "    [1,0,0,0,0,0,0,1,0,1,0,0,0,0],\n",
    "    [1,0,0,0,0,1,0,0,0,0,1,1,1,1],  # Hub existant\n",
    "    [0,0,0,0,0,0,0,0,0,1,0,1,0,1],\n",
    "    [0,0,0,0,0,0,0,0,0,1,0,0,1,0],\n",
    "    [0,0,0,0,0,0,0,0,0,1,0,0,0,1], \n",
    "    [0,0,0,0,0,0,0,1,0,1,0,0,0,0]   # Autorité: reçoit des liens de 1,7,9\n",
    "])\n",
    "\n",
    "P3, R3 = PageRank2(A_partie3)\n",
    "\n",
    "# Affichage des resultats\n",
    "N = [i for i in range(1,len(A_partie3)+1)]\n",
    "plt.bar(N, R1[1], align='center')\n",
    "plt.bar(N, R3[1], color='red', width=0.5)\n",
    "plt.legend([\"Score Partie 1\", \"Score Partie 3\"], loc=\"upper right\")\n",
    "plt.show()"
   ]
  },
  {
   "cell_type": "markdown",
   "id": "abef952d-83e3-461d-beda-2cab43301063",
   "metadata": {},
   "source": [
    "Dans la configuration du graphe de la partie 3, nous pouvons constater que les sommets 1, 8, 10 et 6 ont subis des changements conséquents. Par exemple, le score du sommet 1 (qui est un hub et une autorité) à considérablement augmenté. Au contraire, le score du sommet 6, qui est un sommet normal, à largement diminué"
   ]
  },
  {
   "cell_type": "code",
   "execution_count": null,
   "id": "ddc57ff6-d9c6-48ed-ac91-17301925d070",
   "metadata": {},
   "outputs": [],
   "source": []
  }
 ],
 "metadata": {
  "kernelspec": {
   "display_name": "Python 3 (ipykernel)",
   "language": "python",
   "name": "python3"
  },
  "language_info": {
   "codemirror_mode": {
    "name": "ipython",
    "version": 3
   },
   "file_extension": ".py",
   "mimetype": "text/x-python",
   "name": "python",
   "nbconvert_exporter": "python",
   "pygments_lexer": "ipython3",
   "version": "3.11.0"
  }
 },
 "nbformat": 4,
 "nbformat_minor": 5
}
