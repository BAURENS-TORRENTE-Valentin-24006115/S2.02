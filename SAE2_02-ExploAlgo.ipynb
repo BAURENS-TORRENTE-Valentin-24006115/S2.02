{
  "metadata": {
    "kernelspec": {
      "name": "python",
      "display_name": "Python (Pyodide)",
      "language": "python"
    },
    "language_info": {
      "codemirror_mode": {
        "name": "python",
        "version": 3
      },
      "file_extension": ".py",
      "mimetype": "text/x-python",
      "name": "python",
      "nbconvert_exporter": "python",
      "pygments_lexer": "ipython3",
      "version": "3.8"
    }
  },
  "nbformat_minor": 5,
  "nbformat": 4,
  "cells": [
    {
      "id": "44749bae-4145-43e7-ace1-91da1891683a",
      "cell_type": "markdown",
      "source": "# S2.02 - Exploration algorithmique d’un problème\n## Amroune Akim - Antoine Thomas - Baurens-Torrente Valentin - Sene Pablo\n\n### Partie 1 :\n#### 1.",
      "metadata": {}
    },
    {
      "id": "97807ad3-a134-405b-a76f-2fcce9898ade",
      "cell_type": "code",
      "source": "import matplotlib.pyplot as plt\nimport numpy as np\n\n# Fonction puissance iteree TP S2.02\ndef norme(X):\n    total = 0\n    for i in X:\n        total += i**2\n    return np.sqrt(total)\n\ndef puissance_iteree(A,s):\n    XN = np.ones(len(A)) / len(A)\n    AXN = np.dot(A,XN)\n    XN1 = (AXN / norme(AXN))\n    while norme(XN1 - XN) > s:\n        XN = XN1\n        AXN = np.dot(A,XN)\n        XN1 = (AXN) / norme(AXN)\n    return norme(np.dot(A,XN)), XN # Valeur propre et Vecteur propres\n\nC = np.array([\n        [2,3,3],\n        [1,0,3],\n        [1,5,3]\n    ])\n\nPc = puissance_iteree(C, 0.0001)\nprint(Pc, \"\\n\")\nprint(norme(np.dot(C,Pc[1]) - Pc[0] * Pc[1] ), \"\\n\")",
      "metadata": {
        "trusted": true
      },
      "outputs": [
        {
          "name": "stdout",
          "output_type": "stream",
          "text": "(np.float64(6.866319725770029), array([0.64423597, 0.38301611, 0.66201108])) \n\n0.00042623815878826114 \n\n"
        }
      ],
      "execution_count": 5
    },
    {
      "id": "dc4b2914-4869-460f-b941-085b31bf715f",
      "cell_type": "markdown",
      "source": "L'algorithme de la puissance itérée permet de calculé le score de chaque pages car celui-ci revoie le vecteur propres de la matrice donnée qui correspond a la vecteur r, qui est le vecteur des scores de chaques pages",
      "metadata": {}
    },
    {
      "id": "5b18f12c-3e5d-4462-a685-1be2ff657051",
      "cell_type": "markdown",
      "source": "#### 2.",
      "metadata": {}
    },
    {
      "id": "6acc3716-4699-4747-9359-63b4ea038c4a",
      "cell_type": "code",
      "source": "import numpy as np\n\nA = np.array([\n    [0,1,1,1,1,1,0,0,0,0,0,0,0,0],\n    [1,0,1,0,1,0,0,0,0,0,0,0,0,0],\n    [1,0,0,1,0,0,0,0,0,0,0,0,0,0],\n    [1,0,0,0,1,0,0,0,0,0,0,0,0,0],\n    [1,0,0,0,0,0,0,0,0,0,0,0,0,0],\n    [0,0,0,0,0,0,1,1,1,0,0,0,0,0],\n    [1,0,0,0,0,0,0,1,0,0,0,0,0,0],\n    [0,0,0,0,0,1,0,0,0,0,0,0,0,0],\n    [0,0,0,0,0,0,0,1,0,1,0,0,0,0],\n    [0,0,0,0,0,1,0,0,0,0,1,1,1,1],\n    [0,0,0,0,0,0,0,0,0,1,0,1,0,1],\n    [0,0,0,0,0,0,0,0,0,1,0,0,1,0],\n    [0,0,0,0,0,0,0,0,0,1,0,0,0,1], \n    [0,0,0,0,0,0,0,0,0,1,0,0,0,0]\n])\n\nC = A.T #Transposée de A\n\nNj = np.zeros((len(C)),dtype=int)\nfor i in range(len(C)):\n    for j in range(len(C)):\n        Nj[i] += C[j][i]\n\nQ = np.where(Nj != 0, C / Nj,0)\n\nR = puissance_iteree(Q, 1e-5)\nprint(\"Score de chaque noeud :\")\nfor i in range(0,len(R[1])):\n    print(i+1,\":\", R[1][i])\nprint(\"Valeur propre: \",R[0])\nprint(\"Verification : \",norme(np.dot(Q,R[1]) - R[0] * R[1] ), \"\\n\")",
      "metadata": {
        "trusted": true
      },
      "outputs": [
        {
          "name": "stdout",
          "output_type": "stream",
          "text": "Score de chaque noeud :\n1 : 0.43770073255972114\n2 : 0.08754067724942365\n3 : 0.11672114023607158\n4 : 0.14590177879494587\n5 : 0.1896727330643801\n6 : 0.5252091640214922\n7 : 0.17506778881552787\n8 : 0.35013350475186017\n9 : 0.17506778881552787\n10 : 0.4377007325597212\n11 : 0.08754067724942363\n12 : 0.11672114023607157\n13 : 0.14590177879494584\n14 : 0.18967273306438007\nValeur propre:  1.0000012541636143\nVerification :  7.965668085486592e-06 \n\n"
        }
      ],
      "execution_count": 2
    },
    {
      "id": "22cb3679-404c-45cf-93df-011c4725ddb7",
      "cell_type": "markdown",
      "source": "#### 3.",
      "metadata": {}
    },
    {
      "id": "e8d97e6f-5ca2-4c47-bc3e-0b4479518593",
      "cell_type": "markdown",
      "source": "En observant les résultats de la question précédente, nous observons premièrement que la valeur propre se rapproche de 1 au fur et à mesure que l'on diminue le seuil. Puis, lorsque l'on vérifie en effectuant le calcul : norme(Q * vecteur propre) - valeur propre * vecteur propre\nLe résultat se rapproche de 0 selon le seuil donné à la fonction puissance_iteree()",
      "metadata": {}
    },
    {
      "id": "65b25105-3668-4386-99f1-418af46ad54a",
      "cell_type": "markdown",
      "source": "### Partie 2\n#### 1.",
      "metadata": {}
    },
    {
      "id": "04ce75ea-5cd9-4020-8777-54cd3e267e26",
      "cell_type": "code",
      "source": "A = np.array([[0,0,0,0,0],\n           [1,0,0,0,0],\n           [1,0,0,1,0],\n           [1,1,0,0,0],\n           [1,1,0,0,0]])\n\nC = A.T #Transposée de A\n\nNj = np.zeros((len(C)),dtype=int)\nfor i in range(len(C)):\n    for j in range(len(C)):\n        Nj[i] += C[j][i]\n\nQ = np.where(Nj != 0, C / Nj,0)\n\nR = puissance_iteree(C, 1e-5)\nprint(\"Score de chaque noeuds :\")\nfor i in range(0,len(R[1])):\n    print(i+1,\":\", R[1][i])\nprint(\"Valeur propres: \",R[0])\nprint(norme(np.dot(C,R[1]) - R[0] * R[1] ), \"\\n\")",
      "metadata": {
        "trusted": true
      },
      "outputs": [
        {
          "name": "stdout",
          "output_type": "stream",
          "text": "Score de chaque noeuds :\n1 : 1.0\n2 : 0.0\n3 : 0.0\n4 : 0.0\n5 : 0.0\nValeur propres:  0.0\n0.0 \n\n"
        }
      ],
      "execution_count": 6
    },
    {
      "id": "3217f237-aecc-41d0-9f06-4c1bef03d583",
      "cell_type": "markdown",
      "source": "En appliquant l'algorithme de la Partie 1 au graphe de la Partie 2, on obtient dans le résultat une erreur dans la division. Cela s'explique par le fait qu'il y a des puits. Comme certains sommets ne renvoient rien, on ne peut pas retourner en arrière donc on obtient un mauvais résultat. C'est dire que chaque sommet représente des sites et que chaque arête représente des liens vers le site pointé par la flèche. Par exemple, le sommet 3 a une arête pointant vers 1 signifiant que le site 3 a un lien vers le site 1. Le site 3 n'a aucun lien vers lui.",
      "metadata": {}
    }
  ]
}