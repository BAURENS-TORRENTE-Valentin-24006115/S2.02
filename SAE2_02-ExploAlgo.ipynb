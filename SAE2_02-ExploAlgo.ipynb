{
 "cells": [
  {
   "cell_type": "markdown",
   "id": "44749bae-4145-43e7-ace1-91da1891683a",
   "metadata": {},
   "source": [
    "# S2.02 - Exploration algorithmique d’un problème\n",
    "## Amroune Akim - Antoine Thomas - Baurens-Torrente Valentin - Sene Pablo\n",
    "\n",
    "### Exercice 1 :\n",
    "1."
   ]
  },
  {
   "cell_type": "code",
   "execution_count": 1,
   "id": "97807ad3-a134-405b-a76f-2fcce9898ade",
   "metadata": {},
   "outputs": [
    {
     "name": "stdout",
     "output_type": "stream",
     "text": [
      "[0.98058068 0.19611614]\n",
      "0.0021959916341187063 \n",
      "\n"
     ]
    }
   ],
   "source": [
    "import matplotlib.pyplot as plt\n",
    "import numpy as np\n",
    "\n",
    "# Fonction puissance iteree TP S2.02\n",
    "def norme(X):\n",
    "    total = 0\n",
    "    for i in X:\n",
    "        total += i**2\n",
    "    return np.sqrt(total)\n",
    "\n",
    "def puissance_iteree(A,s):\n",
    "    XN = np.array(np.random.randint(0,10,len(A)))\n",
    "    XN1 = (np.dot(A,XN) / norme(np.dot(A,XN)))\n",
    "    print(XN1)\n",
    "    while norme(XN1 - XN) > s:\n",
    "        XN = XN1\n",
    "        XN1 = (np.dot(A,XN)) / norme(np.dot(A,XN))\n",
    "    return norme(np.dot(A,XN)), XN\n",
    "\n",
    "C = np.array([\n",
    "        [2,3],\n",
    "        [1,0]\n",
    "    ])\n",
    "\n",
    "Pc = puissance_iteree(C, 0.001)\n",
    "print(norme(np.dot(C,Pc[1]) - Pc[0] * Pc[1] ), \"\\n\")"
   ]
  },
  {
   "cell_type": "code",
   "execution_count": null,
   "id": "6acc3716-4699-4747-9359-63b4ea038c4a",
   "metadata": {},
   "outputs": [],
   "source": [
    "L’algorithme de la puissance itérée permet de calculer le vecteur propre dominant de la matrice Q, ce qui correspond aux scores des pages dans l’algorithme de PageRank. Ce vecteur vérifie que r = Qr et est approché par des itérations successives."
   ]
  }
 ],
 "metadata": {
  "kernelspec": {
   "display_name": "Python 3 (ipykernel)",
   "language": "python",
   "name": "python3"
  },
  "language_info": {
   "codemirror_mode": {
    "name": "ipython",
    "version": 3
   },
   "file_extension": ".py",
   "mimetype": "text/x-python",
   "name": "python",
   "nbconvert_exporter": "python",
   "pygments_lexer": "ipython3",
   "version": "3.11.0"
  }
 },
 "nbformat": 4,
 "nbformat_minor": 5
}
